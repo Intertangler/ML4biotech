{
  "nbformat": 4,
  "nbformat_minor": 0,
  "metadata": {
    "colab": {
      "provenance": [],
      "authorship_tag": "ABX9TyNErXCQish97euO9e9cm0BA",
      "include_colab_link": true
    },
    "kernelspec": {
      "name": "python3",
      "display_name": "Python 3"
    },
    "language_info": {
      "name": "python"
    }
  },
  "cells": [
    {
      "cell_type": "markdown",
      "metadata": {
        "id": "view-in-github",
        "colab_type": "text"
      },
      "source": [
        "<a href=\"https://colab.research.google.com/github/Intertangler/ML4biotech/blob/main/gmm_R.ipynb\" target=\"_parent\"><img src=\"https://colab.research.google.com/assets/colab-badge.svg\" alt=\"Open In Colab\"/></a>"
      ]
    },
    {
      "cell_type": "code",
      "execution_count": 1,
      "metadata": {
        "id": "MtB9TdRza976"
      },
      "outputs": [],
      "source": [
        "%load_ext rpy2.ipython"
      ]
    },
    {
      "cell_type": "markdown",
      "source": [
        "## excerise - fitting\n",
        "### background story\n",
        "We're analyzing a population of cells that we know to be a mixture of 3 distinct types. We've done some single cell sequencing analysis on the cells and want to be able to study the expression patterns of each individual cell. Fortunately, we know a particular gene whose expression level strongly predicts which cell type we're dealing with - low expression level of the gene is type 1 cell, medium expression is type 2, and high expression is type 3. The goal of this exercise is to classify each cell type according to expresison level by fitting a Gaussian mixture model (GMM) to the data from this gene."
      ],
      "metadata": {
        "id": "oDfXvJgnfwJM"
      }
    },
    {
      "cell_type": "markdown",
      "source": [
        "### part 1 - fitting the Gaussian mixture model to the data with MLE\n",
        "In this part, we are going to take a model (a mixture of multiple Gaussian PDFs) and adjust the parameters until the model best fits the data. The discovered parameters will tell us the average expression levels and relative spread of each of the cell subpopulations we are interested in."
      ],
      "metadata": {
        "id": "HykS3L2efyL0"
      }
    },
    {
      "cell_type": "code",
      "source": [
        "%%R\n",
        "\n",
        "#First, let's import the data and transform it into something that we can fit a GMM to.\n",
        "#As we often do, let's make a histogram to visualize the data.\n",
        "\n",
        "library(ggplot2)\n",
        "\n",
        "url <- \"https://raw.githubusercontent.com/Intertangler/ML4biotech/main/gaussian_data_raw.csv\"\n",
        "data <- read.csv(url, header = FALSE)\n",
        "\n",
        "data_vector <- as.numeric(unlist(data))\n",
        "\n",
        "# Create a histogram\n",
        "ggplot(data = data.frame(x = data_vector), aes(x = x)) +\n",
        "  geom_histogram(bins = 100, fill = \"grey\", alpha = 0.7, colour = \"black\") +\n",
        "  xlab('Expression level (transcripts per million)') +\n",
        "  ylab('Cell count') +\n",
        "  ggtitle('Gene A Expression')\n"
      ],
      "metadata": {
        "colab": {
          "base_uri": "https://localhost:8080/",
          "height": 497
        },
        "id": "UyN2MOTcbEWY",
        "outputId": "78a5ca15-9c8b-46b8-a4f9-de4a698f417b"
      },
      "execution_count": 2,
      "outputs": [
        {
          "output_type": "display_data",
          "data": {
            "image/png": "[encoded data removed]"
          },
          "metadata": {}
        }
      ]
    },
    {
      "cell_type": "code",
      "source": [
        "%%R\n",
        "\n",
        "#In this experiment, the cell expression data (in transcripts per million) are lognormally\n",
        "#distributed - and consequently these expression levels tend to be more spread out,\n",
        "#the higher their values are. So, we will take the log of the data. If the data is\n",
        "#indeed lognormally distributed, then this will have the effect of turning the data\n",
        "#into normally (i.e. Gaussian) distributed data, that we will then be able to process with\n",
        "#our GMM.\n",
        "\n",
        "#🌟🌟🌟🌟 YOUR CODE HERE 🌟🌟🌟🌟# # log 10 transform the data so that it is normally distributed\n",
        "\n",
        "ggplot(data = data.frame(x = log_data), aes(x = x)) +\n",
        "  geom_histogram(bins = 100, fill = \"grey\", alpha = 0.7, colour = \"black\") +\n",
        "  xlab('Log 10 expression level (transcripts per million)') +\n",
        "  ylab('Cell count') +\n",
        "  ggtitle('Gene A Expression (Log-Transformed)') +\n",
        "  theme_minimal()\n"
      ],
      "metadata": {
        "colab": {
          "base_uri": "https://localhost:8080/",
          "height": 497
        },
        "id": "ckCF6SrwftUN",
        "outputId": "5acef8a9-c95c-4ae1-cf71-b81929f23384"
      },
      "execution_count": 3,
      "outputs": [
        {
          "output_type": "display_data",
          "data": {
            "image/png": "[encoded data removed]"
          },
          "metadata": {}
        }
      ]
    },
    {
      "cell_type": "code",
      "source": [
        "%%R\n",
        "#Next we want to fit a GMM to this now-Gaussian data. We will use the method of\n",
        "#Maximum Likelihood Estimation. The requires us to have 1. a probability density\n",
        "#function that enables us to compute probability densities for a given set of parameters.\n",
        "#And 2. we need a loss function that the minimizer can use to find the right parameters.\n",
        "#For this loss function, we will use the Negative Log Likelihood function NLL.\n",
        "\n",
        "\n",
        "library(stats)\n",
        "library(stats4)\n",
        "\n",
        "# Make the gaussian mixture model probability density computing function\n",
        "mixture_model_pdf <- function(data_point, params) {\n",
        "  n_gaussians <- length(params) / 3\n",
        "  pis <- params[1:n_gaussians]\n",
        "  mus <- params[(n_gaussians+1):(2*n_gaussians)]\n",
        "  sigmas <- params[(2*n_gaussians+1):(3*n_gaussians)]\n",
        "  total_prob <- 0\n",
        "  #🌟🌟🌟🌟 YOUR CODE HERE 🌟🌟🌟🌟# # loop through each of the gaussians\n",
        "    #🌟🌟🌟🌟 YOUR CODE HERE 🌟🌟🌟🌟#  #compute the probability density for each datapoint\n",
        "  }\n",
        "  return(total_prob)\n",
        "}\n",
        "\n",
        "# Define the NLL function - the loss function that we want to feed to the minimizer\n",
        "nll <- function(params, data) {\n",
        "  log_likelihood <- 0\n",
        "\n",
        "  for (data_point in data) {\n",
        "    density <- #🌟🌟🌟🌟 YOUR CODE HERE 🌟🌟🌟🌟# #fetch the probability density using the mixture model pdf function\n",
        "    density <- density + 1e-10\n",
        "    log_likelihood <- #🌟🌟🌟🌟 YOUR CODE HERE 🌟🌟🌟🌟#  # compute the log of the probability density and add it to the overall likelihood\n",
        "  }\n",
        "  return(-log_likelihood)\n",
        "}\n",
        "\n",
        "# Load data from URL\n",
        "url <- \"https://raw.githubusercontent.com/Intertangler/ML4biotech/main/gaussian_data_raw.csv\"\n",
        "data <- read.csv(url, header = FALSE)\n",
        "data_vector <- as.numeric(unlist(data))\n",
        "log_data <- log10(data_vector)\n",
        "\n",
        "# Initial guesses\n",
        "initial_guess <- c(0.33, 0.33, 0.34, 1, 2, 5, 1, 1, 1)\n",
        "lower_bounds <- c(1e-12, 1e-12, 1e-12, 1e-12, 1e-12, 1e-12, 1e-12, 1e-12, 1e-12)\n",
        "upper_bounds <- c(.33, .33, .33, Inf, Inf, Inf, Inf, Inf, Inf)\n",
        "\n",
        "\n",
        "# run the optimizer\n",
        "result <- optim(\n",
        "  par = initial_guess,\n",
        "  fn = nll,  # Your nll function here\n",
        "  data = log_data,  # Your data here\n",
        "  method = \"L-BFGS-B\",\n",
        "  lower = lower_bounds,\n",
        "  upper = upper_bounds,\n",
        "  control = list(maxit = 10000)\n",
        ")\n"
      ],
      "metadata": {
        "id": "RBfzj7ZSftiU"
      },
      "execution_count": 4,
      "outputs": []
    },
    {
      "cell_type": "code",
      "source": [
        "%%R\n",
        "print(result)"
      ],
      "metadata": {
        "colab": {
          "base_uri": "https://localhost:8080/"
        },
        "id": "OUXQMuNHftqL",
        "outputId": "c37466b4-bc1d-4c4b-ee83-ca2da7c04319"
      },
      "execution_count": 5,
      "outputs": [
        {
          "output_type": "stream",
          "name": "stdout",
          "text": [
            "$par\n",
            "[1] 0.3300000 0.3300000 0.3300000 2.0002392 0.9915295 2.6818491 0.2244617\n",
            "[8] 0.2126931 0.2169265\n",
            "\n",
            "$value\n",
            "[1] 2643.57\n",
            "\n",
            "$counts\n",
            "function gradient \n",
            "      63       63 \n",
            "\n",
            "$convergence\n",
            "[1] 0\n",
            "\n",
            "$message\n",
            "[1] \"CONVERGENCE: REL_REDUCTION_OF_F <= FACTR*EPSMCH\"\n",
            "\n"
          ]
        }
      ]
    },
    {
      "cell_type": "code",
      "source": [
        "%%R\n",
        "install.packages(\"ggplot2\")\n",
        "library(ggplot2)\n"
      ],
      "metadata": {
        "id": "aTuUtI8Xgzvo"
      },
      "execution_count": null,
      "outputs": []
    },
    {
      "cell_type": "code",
      "source": [
        "%%R\n",
        "\n",
        "#If your minimization setup worked correctly, then when you run this cell, you will\n",
        "#see Gaussian peaks fitted nicely to the data, with the sum of those peaks shown\n",
        "#as well as their individual contributions.\n",
        "\n",
        "visualize_data_and_model <- function(data, params) {\n",
        "  data_frame <- data.frame(data = data)\n",
        "\n",
        "  hist_data <- ggplot_build(ggplot(data_frame, aes(x = data)) +\n",
        "                             geom_histogram(aes(y = ..density..), bins = 200, fill = 'blue'))$data[[1]]\n",
        "\n",
        "  max_density <- max(hist_data$y)\n",
        "\n",
        "  plot <- ggplot(data_frame, aes(x = data)) +\n",
        "    geom_histogram(aes(y = ..density..), bins = 200, fill = 'blue') +\n",
        "    labs(x = 'Data', y = 'Density', title = 'Data with Fitted Model Overlaid') +\n",
        "    theme_minimal()\n",
        "\n",
        "  n_gaussians <- length(params) %/% 3\n",
        "  pi <- params[1:n_gaussians]\n",
        "  mus <- params[(n_gaussians+1):(2*n_gaussians)]\n",
        "  sigmas <- params[(2*n_gaussians+1):(3*n_gaussians)]\n",
        "\n",
        "  x <- seq(min(data), max(data), length.out = 1000)\n",
        "  y <- vector(\"list\", n_gaussians)\n",
        "\n",
        "  for(i in seq_len(n_gaussians)) {\n",
        "    y[[i]] <- pi[i] * (1/(sigmas[i] * sqrt(2 * pi)) * exp(-0.5 * ((x - mus[i]) / sigmas[i])^2))\n",
        "    y[[i]] <- y[[i]] / max(y[[i]]) * max_density\n",
        "  }\n",
        "\n",
        "  for(i in seq_len(n_gaussians)) {\n",
        "    data_frame <- data.frame(x = x, y = y[[i]])\n",
        "    plot <- plot +\n",
        "            geom_line(data = data_frame, aes(x = x, y = y), color = 'black')\n",
        "  }\n",
        "\n",
        "  total_y <- Reduce('+', y)\n",
        "  data_frame <- data.frame(x = x, y = total_y)\n",
        "\n",
        "  plot <- plot +\n",
        "        geom_line(data = data_frame, aes(x = x, y = y), color = 'red', linetype = \"dashed\")\n",
        "\n",
        "  print(plot)\n",
        "}\n",
        "\n",
        "# Assuming result$par and log_data are defined\n",
        "visualize_data_and_model(log_data, result$par)\n"
      ],
      "metadata": {
        "id": "Q2RcFY8Gmtha"
      },
      "execution_count": null,
      "outputs": []
    },
    {
      "cell_type": "code",
      "source": [
        "%%R\n",
        "\n",
        "#Next, let's assign identities to each of the cells (data points) according to\n",
        "#which Gaussian they are most probably belonging to. Since we have a probabilistic\n",
        "#gaussian mixture model, this should let us compute the probability that any particular\n",
        "#point on the axis of our random variable (gene expression level), or in other words\n",
        "#each data point...is produced by one or other of the gaussians. For each point then\n",
        "#we can compute 3 probabilities for each gaussian. The most likely gaussian becomes\n",
        "#our decision then - and we assign that point to the respective gaussian. Some cells\n",
        "#will be called with greater confidence than others - this is an advantage to this\n",
        "#method over harder clustering methods like k-means.\n",
        "\n",
        "assign_clusters <- function(data, params) {\n",
        "  n_gaussians <- length(params) %/% 3\n",
        "  pis <- params[1:n_gaussians]\n",
        "  mus <- params[(n_gaussians+1):(2*n_gaussians)]\n",
        "  sigmas <- params[(2*n_gaussians+1):(3*n_gaussians)]\n",
        "  probabilities <- matrix(nrow = n_gaussians, ncol = length(data))\n",
        "\n",
        "  for (i in 1:n_gaussians) {\n",
        "    #🌟🌟🌟🌟 YOUR CODE HERE 🌟🌟🌟🌟#  # make a loop that goes through each data point\n",
        "      #🌟🌟🌟🌟 YOUR CODE HERE 🌟🌟🌟🌟# #compute the probability associated with each data point with respect to each gaussian and update the table\n",
        "    }\n",
        "  }\n",
        "\n",
        "  probabilities <- probabilities / rowSums(probabilities)\n",
        "\n",
        "  return(probabilities)\n",
        "}\n",
        "\n",
        "visualize_clusters_and_model <- function(data, params, probabilities) {\n",
        "  n_gaussians <- length(params) %/% 3\n",
        "  pis <- params[1:n_gaussians]\n",
        "  mus <- params[(n_gaussians+1):(2*n_gaussians)]\n",
        "  sigmas <- params[(2*n_gaussians+1):(3*n_gaussians)]\n",
        "\n",
        "  x <- seq(min(data), max(data), length.out = 1000)\n",
        "  y <- vector(\"list\", n_gaussians)\n",
        "\n",
        "  plot(x, pis[1] * (1/(sigmas[1] * sqrt(2 * pi)) * exp(-0.5 * ((x - mus[1]) / sigmas[1])^2)),\n",
        "       type = \"n\",\n",
        "       xlim = c(min(data), max(data)),\n",
        "       ylim = c(-0.001, max(sapply(1:n_gaussians, function(i) pis[i] * (1/(sigmas[i] * sqrt(2 * pi)))))),\n",
        "       xlab = \"Data\",\n",
        "       ylab = \"Density\",\n",
        "       main = \"Data with Fitted Model and Cluster Probabilities\")\n",
        "\n",
        "  for(i in 1:n_gaussians) {\n",
        "    y[[i]] <- pis[i] * (1/(sigmas[i] * sqrt(2 * pi)) * exp(-0.5 * ((x - mus[i]) / sigmas[i])^2))\n",
        "    lines(x, y[[i]], col = \"black\", lwd = 2)\n",
        "  }\n",
        "\n",
        "  cluster_assignments <- apply(probabilities, 2, which.max)\n",
        "  colors <- rainbow(n_gaussians)[cluster_assignments]\n",
        "\n",
        "  points(data, rep(-0.001, length(data)), pch = 19, col = colors, cex = 0.5)\n",
        "\n",
        "  legend(\"topright\", legend = paste(\"Gaussian\", 1:n_gaussians), col = \"black\", lwd = 2)\n",
        "}\n",
        "\n",
        "\n",
        "\n",
        "# Assuming log_data and result$par are defined\n",
        "predicted_probabilities <- assign_clusters(log_data, result$par)\n",
        "predicted_labels <- apply(predicted_probabilities, 2, which.max)\n",
        "\n",
        "visualize_clusters_and_model(log_data, result$par, predicted_probabilities)\n"
      ],
      "metadata": {
        "id": "A7VrdJ__m5za"
      },
      "execution_count": null,
      "outputs": []
    },
    {
      "cell_type": "code",
      "source": [
        "%%R\n",
        "install.packages(\"mclust\")\n",
        "install.packages(\"ggplot2\")\n",
        "install.packages(\"MASS\")\n",
        "install.packages(\"ellipse\")\n",
        "\n",
        "install.packages(\"mixtools\")"
      ],
      "metadata": {
        "id": "24vWPt8zvEZ-"
      },
      "execution_count": null,
      "outputs": []
    },
    {
      "cell_type": "code",
      "source": [
        "%%R\n",
        "library(MASS)\n",
        "library(ellipse)\n",
        "\n",
        "fit_gmm <- function(data, n_gaussians, n_iterations) {\n",
        "  n <- nrow(data)\n",
        "  d <- ncol(data)\n",
        "  data <- as.matrix(data) # Convert data frame to matrix\n",
        "\n",
        "  # Step 1: Initialize the parameters\n",
        "  set.seed(123)\n",
        "  weights <- rep(1/n_gaussians, n_gaussians)\n",
        "  means <- data[sample(1:n, n_gaussians, replace = FALSE),]\n",
        "  sigmas <- array(0, dim = c(d, d, n_gaussians))\n",
        "  for (i in 1:n_gaussians) {\n",
        "    sigmas[,,i] <- diag(d)\n",
        "  }\n",
        "\n",
        "  # Step 2: EM algorithm\n",
        "  for (iteration in 1:n_iterations) {\n",
        "    # E-step: Compute the responsibilities using the current parameter values\n",
        "    resp <- matrix(0, nrow = n, ncol = n_gaussians)\n",
        "    for (i in 1:n_gaussians) {\n",
        "      resp[,i] <- weights[i] * dmvnorm(data, means[i,], sigmas[,,i])\n",
        "    }\n",
        "    resp <- resp / rowSums(resp)\n",
        "\n",
        "    # M-step: Update the parameter values using the current responsibilities\n",
        "    for (i in 1:n_gaussians) {\n",
        "      Nk <- sum(resp[,i])\n",
        "      weights[i] <- Nk / n\n",
        "      means[i,] <- colSums(resp[,i] * data) / Nk\n",
        "      sigma_temp <- t(data - matrix(means[i,], n, d, byrow = TRUE)) %*% diag(resp[,i]) %*% (data - matrix(means[i,], n, d, byrow = TRUE)) / Nk\n",
        "      sigmas[,,i] <- sigma_temp\n",
        "    }\n",
        "  }\n",
        "\n",
        "  list(weights = weights, means = means, sigmas = sigmas, resp = resp)\n",
        "}\n",
        "\n",
        "# Usage example:\n",
        "data <- data.frame(V1 = c(rnorm(100, 2, 1), rnorm(100, 8, 1)), V2 = c(rnorm(100, 2, 1), rnorm(100, 8, 1)))\n",
        "gmm_results <- fit_gmm(data, 2, 100)\n",
        "#print(gmm_results)\n",
        "\n",
        "# Visualization:\n",
        "ggplot(data, aes(x = V1, y = V2)) +\n",
        "  geom_point(color = 'blue', size = 0.5) +\n",
        "  geom_point(data = as.data.frame(gmm_results$means), aes(x = V1, y = V2), color = 'red', size = 2) +\n",
        "  ggtitle('2D GMM Fit with Cluster Means') +\n",
        "  xlab('X') +\n",
        "  ylab('Y') +\n",
        "  theme_minimal()\n"
      ],
      "metadata": {
        "colab": {
          "base_uri": "https://localhost:8080/",
          "height": 497
        },
        "id": "o7w0Q98SVgL_",
        "outputId": "1adc0a23-a1af-4565-9f17-f98dcec4eee3"
      },
      "execution_count": 60,
      "outputs": [
        {
          "output_type": "display_data",
          "data": {
            "image/png": "[encoded data removed]"
          },
          "metadata": {}
        }
      ]
    },
    {
      "cell_type": "code",
      "source": [],
      "metadata": {
        "id": "anz9MUsuXvJs"
      },
      "execution_count": null,
      "outputs": []
    }
  ]
}