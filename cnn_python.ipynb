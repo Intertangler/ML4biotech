{
  "nbformat": 4,
  "nbformat_minor": 0,
  "metadata": {
    "colab": {
      "provenance": [],
      "authorship_tag": "ABX9TyOUYIsjLJA+JmqpdRzVd0Oj",
      "include_colab_link": true
    },
    "kernelspec": {
      "name": "python3",
      "display_name": "Python 3"
    },
    "language_info": {
      "name": "python"
    }
  },
  "cells": [
    {
      "cell_type": "markdown",
      "metadata": {
        "id": "view-in-github",
        "colab_type": "text"
      },
      "source": [
        "<a href=\"https://colab.research.google.com/github/Intertangler/ML4biotech/blob/main/cnn_python.ipynb\" target=\"_parent\"><img src=\"https://colab.research.google.com/assets/colab-badge.svg\" alt=\"Open In Colab\"/></a>"
      ]
    },
    {
      "cell_type": "markdown",
      "source": [
        "## exercise - convolutional neural network for a spatial cell problem\n",
        "The following artificial dataset is a simulation of a tissue slice where we can think of each point in a 16x16 array as an individual cell. Each cell has 6 genes that we are keeping track of and which have a binary format, i.e. they are either on (1) or off (0). Then there is a status class label, in which we have designated each cell as either cancerous or healthy. The goal of the exercise is to build a convolutional neural network that models the class variable by predicting it from gene expression features. The data have been constructed in such a way as to hide these features to be difficult for linear models to find. But moreover, the cancer tends to cluster into the form of tumors, and thus local spatial correlations should contribute to our ability to predict its location."
      ],
      "metadata": {
        "id": "wpVRWwlFopPQ"
      }
    },
    {
      "cell_type": "markdown",
      "source": [
        "### download the dataset\n",
        "after running the cell below, you can click the folder icon to the right and see if the .csv file is there now. Feel free to look at it and what is in it."
      ],
      "metadata": {
        "id": "2v0_tLK1qoin"
      }
    },
    {
      "cell_type": "code",
      "source": [
        "import requests\n",
        "def download_from_github(url, filename):\n",
        "    response = requests.get(url)\n",
        "    with open(filename, 'wb') as file:\n",
        "        file.write(response.content)\n",
        "url = 'https://raw.githubusercontent.com/Intertangler/ML4biotech/main/all_tissue_slices.csv'\n",
        "filename = 'all_tissue_slices.csv'\n",
        "download_from_github(url, filename)\n"
      ],
      "metadata": {
        "id": "M1IZCWYrNzx8"
      },
      "execution_count": 6,
      "outputs": []
    },
    {
      "cell_type": "markdown",
      "source": [
        "### load the data into variables\n",
        "We will import the data into programming variables in order to handle them hereafter. We will make use of a reverse lookup table which will be for mapping rectangular matrix indices back to the hexagonal lattice coordinates of the cell positions. Also note how gene expression values (1's and 0's) are stored in the \"lattice\" variable."
      ],
      "metadata": {
        "id": "r-XunaJ7rhZn"
      }
    },
    {
      "cell_type": "code",
      "source": [
        "import pandas as pd\n",
        "\n",
        "def load_slices_from_csv(n_genes, filename='all_tissue_slices.csv'):\n",
        "    df = pd.read_csv(filename)\n",
        "    all_slices = {}\n",
        "\n",
        "    # we group by slice id\n",
        "    grouped = df.groupby('Tissue_Slice_ID')\n",
        "\n",
        "    for name, group in grouped:\n",
        "        lattice = {}\n",
        "        cancer_status = {}\n",
        "        effector_status = {}\n",
        "        pathology_counter = {}\n",
        "        reverse_lookup = {}  # reverse lookup to remap back to hex coordinates\n",
        "        for _, row in group.iterrows():\n",
        "            x, y = float(row['x']), float(row['y'])\n",
        "            row_idx, col_idx = int(row['row_idx']), int(row['col_idx'])  # extract row and col indexes\n",
        "            is_cancer = row['is_cancer']\n",
        "            is_effector = row['is_effector']\n",
        "            genes = list(row[['gene_{}'.format(i) for i in range(1, n_genes+1)]])\n",
        "            pathology = row['pathology_counter']\n",
        "\n",
        "            # fill variables with data for this slice\n",
        "            lattice[(x, y)] = genes\n",
        "            cancer_status[(x, y)] = is_cancer\n",
        "            effector_status[(x, y)] = is_effector\n",
        "            pathology_counter[(x, y)] = pathology\n",
        "            reverse_lookup[(x, y)] = (row_idx, col_idx)  # update reverse_lookup w data\n",
        "\n",
        "        # Store the reconstructed data for this slice in 'all_slices'\n",
        "        all_slices[name] = {\n",
        "            'lattice': lattice,\n",
        "            'cancer_status': cancer_status,\n",
        "            'effector_status': effector_status,\n",
        "            'pathology_counter': pathology_counter,\n",
        "            'reverse_lookup': reverse_lookup\n",
        "        }\n",
        "\n",
        "    return all_slices\n",
        "\n",
        "\n",
        "# Load the data\n",
        "all_slices = load_slices_from_csv(n_genes = 6)\n",
        "\n"
      ],
      "metadata": {
        "id": "lgeIfRf6KIMC"
      },
      "execution_count": 4,
      "outputs": []
    },
    {
      "cell_type": "markdown",
      "source": [
        "### visualize some of the slices\n",
        "Below we can visualize the class labels (healthy and cancerous) - there is a third one called effector which we will ignore.\n",
        "\n",
        "Then we have a \"pathology counter\" which is actually a hidden variable computed from the artificially rigged interactions between nearby cells. This variable is correlated to the cancer status of each cell. But we do not have direct access to it from the gene expression data alone.\n",
        "\n",
        "Then lastly, we have the gene expression data visualized using RGB. Although there are 6 genes, the first 3 have been mapped to rgb colors. So a cell colored magenta would indicate, for example, that the cell expresses 2 out of 3 of the genes being plotted (i.e. a combination of red and blue). A white colored cell expresses all 3, and black expresses none.\n",
        "\n",
        "Try examining some of the slices to see if you discern any visual pattern in the raw gene expression data corresponding to the ground truth class variable.\n",
        "\n"
      ],
      "metadata": {
        "id": "CVVqt1bhrnCI"
      }
    },
    {
      "cell_type": "code",
      "source": [
        "import numpy as np\n",
        "import matplotlib.pyplot as plt\n",
        "from matplotlib.patches import RegularPolygon\n",
        "import itertools\n",
        "import random\n",
        "import math\n",
        "def visualize_slice_ground_truth(radius,cancer_status,effector_status,lattice):\n",
        "    fig, ax1 = plt.subplots()\n",
        "    ax1.set_aspect('equal')\n",
        "    for (x, y), genes in lattice.items():\n",
        "        if cancer_status[(x, y)]:  # Cancer cells\n",
        "            color = '#661004'\n",
        "        elif effector_status.get((x, y), False):  # Effector cells\n",
        "            color = '#8a2876'\n",
        "        else:\n",
        "            color = '#dbd5da'  # Normal cells\n",
        "        hexagon = RegularPolygon((x, y), numVertices=6, radius=radius, orientation=np.pi/6, facecolor=color, edgecolor='black')\n",
        "        ax1.add_patch(hexagon)\n",
        "    ax1.autoscale_view()\n",
        "    plt.title(\"Cancer and Effector Status\")\n",
        "    plt.show()\n",
        "\n",
        "def visualize_pathology_counter(radius, pathology_counter):\n",
        "    fig, ax2 = plt.subplots()\n",
        "    ax2.set_aspect('equal')\n",
        "    max_counter = max(pathology_counter.values())\n",
        "    min_counter = min(pathology_counter.values())+.00001\n",
        "\n",
        "    for (x, y), counter in pathology_counter.items():\n",
        "        normalized_counter = (counter - min_counter) / (max_counter - min_counter)\n",
        "        color = plt.cm.viridis(normalized_counter)\n",
        "        hexagon = RegularPolygon((x, y), numVertices=6, radius=radius, orientation=np.pi/6, facecolor=color, edgecolor='black')\n",
        "        ax2.add_patch(hexagon)\n",
        "\n",
        "    ax2.autoscale_view()\n",
        "    plt.title(\"Pathology Counter Heatmap\")\n",
        "    plt.show()\n",
        "\n",
        "def visualize_gene_expression(radius, lattice):\n",
        "    fig, ax3 = plt.subplots()\n",
        "    ax3.set_aspect('equal')\n",
        "    def normalize_gene_value(gene_value):\n",
        "        return np.clip(gene_value, 0, 1)\n",
        "    for (x, y), genes in lattice.items():\n",
        "        r = normalize_gene_value(genes[0])\n",
        "        g = normalize_gene_value(genes[1])\n",
        "        b = normalize_gene_value(genes[2])\n",
        "        color = (r, g, b)\n",
        "        hexagon = RegularPolygon((x, y), numVertices=6, radius=radius, orientation=np.pi/6, facecolor=color, edgecolor='black')\n",
        "        ax3.add_patch(hexagon)\n",
        "    ax3.autoscale_view()\n",
        "    plt.title(\"Gene Expression Visualization (RGB)\")\n",
        "    plt.show()\n",
        "\n",
        "\n",
        "# example slice\n",
        "slice_1_data = all_slices.get('slice_1', {})\n",
        "reverse_lookup = slice_1_data.get('reverse_lookup', {})\n",
        "lattice = slice_1_data.get('lattice', {})\n",
        "cancer_status = slice_1_data.get('cancer_status', {})\n",
        "effector_status = slice_1_data.get('effector_status', {})\n",
        "pathology_counter = slice_1_data.get('pathology_counter', {})\n",
        "\n",
        "\n",
        "visualize_slice_ground_truth(1, cancer_status, effector_status,lattice)\n",
        "visualize_pathology_counter(1, pathology_counter)\n",
        "visualize_gene_expression(1, lattice)"
      ],
      "metadata": {
        "id": "JXjASOhhLJxS"
      },
      "execution_count": null,
      "outputs": []
    },
    {
      "cell_type": "markdown",
      "source": [
        "### functions for preparing the data as cnn input\n",
        "these functions will be used to import the data and format it as a matrix appropriate as the input to the cnn"
      ],
      "metadata": {
        "id": "FXzQ7Xuiw3MY"
      }
    },
    {
      "cell_type": "code",
      "source": [
        "import numpy as np\n",
        "import csv\n",
        "from sklearn.model_selection import train_test_split\n",
        "def lattice_to_cnn_input(lattice, reverse_lookup, dims=(16,16), n_genes=6):\n",
        "    cnn_input = np.zeros((dims[0], dims[1], n_genes))\n",
        "    for (x, y), genes in lattice.items():\n",
        "        row_idx, col_idx = reverse_lookup[(x, y)]\n",
        "        cnn_input[row_idx, col_idx] = genes\n",
        "    return cnn_input\n",
        "\n",
        "def csv_to_lattices_and_labels(filename, dims=(16, 16)):\n",
        "    with open(filename, 'r') as f:\n",
        "        reader = csv.reader(f)\n",
        "        next(reader)\n",
        "        rows = list(reader)\n",
        "    lattices = {}\n",
        "    reverse_lookups = {}\n",
        "    labels = {}\n",
        "    for row in rows:\n",
        "        tissue_slice_id, x, y, row_idx, col_idx, is_cancer, is_effector, *genes, pathology_counter = row\n",
        "        x, y = float(x), float(y)\n",
        "        row_idx, col_idx = int(row_idx), int(col_idx)\n",
        "        if tissue_slice_id not in lattices:\n",
        "            lattices[tissue_slice_id] = {}\n",
        "            reverse_lookups[tissue_slice_id] = {}\n",
        "            labels[tissue_slice_id] = np.zeros(dims)\n",
        "        genes = [float(g) for g in genes]\n",
        "        lattices[tissue_slice_id][(x, y)] = genes\n",
        "        reverse_lookups[tissue_slice_id][(x, y)] = (row_idx, col_idx)\n",
        "        labels[tissue_slice_id][row_idx, col_idx] = 1.0 if is_cancer.lower() == 'true' else 0.0\n",
        "    lattices_array = np.array([lattice_to_cnn_input(lattices[key], reverse_lookups[key]) for key in sorted(lattices.keys())])\n",
        "    labels_array = np.array([labels[key] for key in sorted(labels.keys())])\n",
        "    return lattices_array, labels_array\n"
      ],
      "metadata": {
        "id": "wWisvkRvLEMT"
      },
      "execution_count": null,
      "outputs": []
    },
    {
      "cell_type": "markdown",
      "source": [
        "## exercise part - build the cnn architecture\n",
        "Using your experience from the previous exercises in which we have used Keras to contruct neural networks, set up a model including the the architecture with convolutional layers (see the documentation from Keras for how to do this https://keras.io/api/layers/convolution_layers/convolution2d/). And set up the compilation, training, and testing as we have done previously for other neural networks."
      ],
      "metadata": {
        "id": "642n5mfNxQbB"
      }
    },
    {
      "cell_type": "code",
      "source": [
        "import tensorflow as tf\n",
        "from tensorflow.keras.layers import Input, Conv2D, Flatten, Dense, Reshape, Dropout\n",
        "from tensorflow.keras.regularizers import l2\n",
        "from tensorflow.keras.models import Model\n",
        "from sklearn.model_selection import train_test_split\n",
        "from tensorflow.keras.layers import MaxPooling2D\n",
        "from tensorflow.keras.layers import UpSampling2D\n",
        "from tensorflow.keras.layers import ZeroPadding2D\n",
        "\n",
        "\n",
        "# Load the data from the csv\n",
        "lattices, cancer_labels = csv_to_lattices_and_labels('all_tissue_slices.csv')\n",
        "\n",
        "# Train-test split - split the data into training and tests sets\n",
        "train_data, test_data, train_labels, test_labels = train_test_split(lattices, cancer_labels, test_size=0.2, random_state=1234)\n",
        "\n",
        "# numpy array conversion\n",
        "train_data = np.array(train_data)\n",
        "test_data = np.array(test_data)\n",
        "train_labels = np.array(train_labels)\n",
        "test_labels = np.array(test_labels)\n",
        "\n",
        "input_tensor = Input(shape=(16, 16, 6))\n",
        "# add a convolutional layer here with a certain number of kernels, specify dimensions of the kernel e.g. 3x3\n",
        "# remember to choose an activation function\n",
        "# structure the output layer to have analogous dimensions as the input,\n",
        "#i.e. a 16x16 array except instead of 6-element gene vector, a 1-element class variable\n",
        "# we want the activation function for the last layer to be a sigmoid\n",
        "#🌟🌟🌟🌟 YOUR CODE HERE 🌟🌟🌟🌟#\n",
        "#🌟🌟🌟🌟 YOUR CODE HERE 🌟🌟🌟🌟#\n",
        "#🌟🌟🌟🌟 YOUR CODE HERE 🌟🌟🌟🌟#\n",
        "\n",
        "\n",
        "model = Model(inputs=input_tensor, outputs=x)\n",
        "\n",
        "# Compile the model\n",
        "model.compile( #🌟🌟🌟🌟 YOUR CODE HERE 🌟🌟🌟🌟\n",
        "\n",
        "\n",
        "# Train the model\n",
        "model.fit(#🌟🌟🌟🌟 YOUR CODE HERE 🌟🌟🌟🌟\n",
        "\n",
        "\n",
        "# Predict\n",
        "y_pred = model.predict(test_data)"
      ],
      "metadata": {
        "id": "KOb9pe4Uw2NY"
      },
      "execution_count": null,
      "outputs": []
    },
    {
      "cell_type": "markdown",
      "source": [
        "### verify visually\n",
        "To see if the model is working, let's perform some side-by-side comparisons of the test data (cancer label) with our predicted outcome activation values."
      ],
      "metadata": {
        "id": "2WZH9haX1uZ6"
      }
    },
    {
      "cell_type": "code",
      "source": [
        "import numpy as np\n",
        "import matplotlib.pyplot as plt\n",
        "from matplotlib.patches import RegularPolygon\n",
        "\n",
        "def visualize_predictions(radius, predictions, dims=(16, 16)):\n",
        "    pathology_counter = {}\n",
        "    for row in range(dims[0]):\n",
        "        for col in range(dims[1]):\n",
        "            x = round(col * 1.5 * radius, 3)\n",
        "            y = round(row * np.sqrt(3) * radius, 3)\n",
        "            if col % 2 == 1:\n",
        "                y += round(np.sqrt(3)/2 * radius, 3)\n",
        "            pathology_counter[(x, y)] = predictions[row, col, 0]\n",
        "\n",
        "    visualize_pathology_counter(radius, pathology_counter)\n",
        "\n",
        "def visualize_pathology_counter(radius, pathology_counter):\n",
        "    fig, ax2 = plt.subplots()\n",
        "    ax2.set_aspect('equal')\n",
        "    max_counter = max(pathology_counter.values())\n",
        "    min_counter = min(pathology_counter.values())+.00001\n",
        "\n",
        "    for (x, y), counter in pathology_counter.items():\n",
        "        normalized_counter = (counter - min_counter) / (max_counter - min_counter)\n",
        "        color = plt.cm.viridis(normalized_counter)\n",
        "        hexagon = RegularPolygon((x, y), numVertices=6, radius=radius, orientation=np.pi/6, facecolor=color, edgecolor='black')\n",
        "        ax2.add_patch(hexagon)\n",
        "\n",
        "    ax2.autoscale_view()\n",
        "    plt.show()\n",
        "def visualize_test_labels(radius, test_labels, dims=(16, 16)):\n",
        "    pathology_counter = {}\n",
        "    for row in range(dims[0]):\n",
        "        for col in range(dims[1]):\n",
        "            x = round(col * 1.5 * radius, 3)\n",
        "            y = round(row * np.sqrt(3) * radius, 3)\n",
        "            if col % 2 == 1:\n",
        "                y += round(np.sqrt(3)/2 * radius, 3)\n",
        "            pathology_counter[(x, y)] = test_labels[row, col]\n",
        "\n",
        "    visualize_pathology_counter(radius, pathology_counter)\n",
        "for i in range(0, np.shape(test_data)[0]):\n",
        "    visualize_test_labels(1, test_labels[i])\n",
        "    visualize_predictions(1, y_pred[i])\n"
      ],
      "metadata": {
        "id": "158sl7AxLEM-"
      },
      "execution_count": null,
      "outputs": []
    }
  ]
}