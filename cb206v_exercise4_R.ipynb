{
  "nbformat": 4,
  "nbformat_minor": 0,
  "metadata": {
    "colab": {
      "provenance": [],
      "authorship_tag": "ABX9TyNLRRBE22a80/IBnhHsQ1U9",
      "include_colab_link": true
    },
    "kernelspec": {
      "name": "ir",
      "display_name": "R"
    },
    "language_info": {
      "name": "R"
    }
  },
  "cells": [
    {
      "cell_type": "markdown",
      "metadata": {
        "id": "view-in-github",
        "colab_type": "text"
      },
      "source": [
        "<a href=\"https://colab.research.google.com/github/Intertangler/ML4biotech/blob/main/cb206v_exercise4_R.ipynb\" target=\"_parent\"><img src=\"https://colab.research.google.com/assets/colab-badge.svg\" alt=\"Open In Colab\"/></a>"
      ]
    },
    {
      "cell_type": "markdown",
      "source": [
        "## exercise - linear regression\n",
        "The dataset in this exercise was generated to simulate a large study in which many individuals have both a gene expression profile (multiple gene expression levels) linked to measurements of their blood sugar level, and then as a longitudinal study, those individuals who later develop diabetes are recorded (this is a high-risk group, let's say). The data has been engineered to contain some interesting structure which we will explore over the next few lessons. For today though, our task is to establish a model to predict the blood sugar concentration from the expression data using multivariate linear regression."
      ],
      "metadata": {
        "id": "6zEXzJQvCfuL"
      }
    },
    {
      "cell_type": "code",
      "source": [
        "#First, let's import some multidimensional data and have a look at it. We will be\n",
        "#using dataframes - basically like excel spreadsheets, with columns and rows.\n",
        "#Try printing out the dataframe to examine its contents and its header labels.\n",
        "\n",
        "library(readr)\n",
        "\n",
        "# Read the data from the GitHub URL\n",
        "url <- \"https://raw.githubusercontent.com/Intertangler/ML4biotech/main/gene_profile_blood_sugar_diabetes_data.csv\"\n",
        "\n",
        "df <- read_csv(url)\n",
        "\n",
        "# Extract data to the appropriate variables\n",
        "all_samples <- as.matrix(df[,-(ncol(df)-1):-(ncol(df))])\n",
        "pathogenic_labels <- df$Pathogenic_Label\n",
        "blood_sugar_levels <- df$Blood_Sugar\n",
        "\n"
      ],
      "metadata": {
        "id": "AxfvrV-iTVBA"
      },
      "execution_count": null,
      "outputs": []
    },
    {
      "cell_type": "code",
      "source": [
        "#take a look at the dataframe\n",
        "print(colnames(df))\n",
        "print(df)"
      ],
      "metadata": {
        "id": "mLdDODJmGPJv"
      },
      "execution_count": null,
      "outputs": []
    },
    {
      "cell_type": "code",
      "source": [
        "# Next, let's run a visualization of our data. First a matrix displaying genes vs\n",
        "# individuals in our dataset, with the brightness of each pixel indicating the\n",
        "# expression level. Then we will make a histogram showing the distribution of\n",
        "# blood sugar levels in our dataset. In addition, we will color each bar according\n",
        "# to the frequency of patients who develop diabetes later in life - the longitudinal\n",
        "# part of this data.\n",
        "\n",
        "library(ggplot2)\n",
        "library(dplyr)\n",
        "library(RColorBrewer)\n",
        "\n",
        "# Load the data\n",
        "# (assuming df is already loaded with your data)\n",
        "\n",
        "# Plot the heatmap\n",
        "heatmap(as.matrix(log(df %>% select(-Pathogenic_Label, -Blood_Sugar))), Rowv = NA, Colv = NA, scale=\"none\", col = brewer.pal(9, \"Greys\"), labRow = NA, labCol = NA)\n",
        "\n",
        "\n",
        "# Create predictors\n",
        "# (assuming all_samples is already defined)\n",
        "\n",
        "# Define the number of bins and get the bin edges\n",
        "num_bins <- 50\n",
        "hist_data <- hist(blood_sugar_levels, breaks = num_bins, plot = FALSE)\n",
        "\n",
        "# Calculate the proportion of pathogenic individuals in each bin\n",
        "bin_labels <- cut(blood_sugar_levels, breaks = hist_data$breaks, include.lowest = TRUE, labels = FALSE)\n",
        "proportions <- sapply(1:length(hist_data$counts), function(i) mean(pathogenic_labels[bin_labels == i]))\n",
        "\n",
        "# Get a colormap instance and map the proportions to colors\n",
        "colormap <- colorRampPalette(brewer.pal(9, \"RdBu\"))\n",
        "bin_colors <- colormap(length(proportions))\n",
        "\n",
        "# Plotting histogram with color indicating the proportion of pathogenic individuals\n",
        "ggplot() +\n",
        "  geom_bar(aes(x = hist_data$mids, y = hist_data$counts, fill = proportions), stat = \"identity\", width = diff(hist_data$breaks)[1]) +\n",
        "  scale_fill_gradientn(colors = rev(bin_colors), name = \"Diabetes proportion\") +\n",
        "  labs(x = 'Blood Sugar Levels (mg/dl)', y = 'Frequency') +\n",
        "  theme_minimal()\n"
      ],
      "metadata": {
        "id": "T8ZiKRnpTlCf"
      },
      "execution_count": null,
      "outputs": []
    },
    {
      "cell_type": "code",
      "source": [
        "install.packages(\"optimx\")\n",
        "install.packages(\"caret\")"
      ],
      "metadata": {
        "id": "92AgRHt3mEX2"
      },
      "execution_count": null,
      "outputs": []
    },
    {
      "cell_type": "code",
      "source": [
        "# Use this guide to help you complete the linear algebra functions needed to do the\n",
        "# normal equations part of the next section\n",
        "\n",
        "# Define a 3x2 matrix and a 2x2 matrix for matrix multiplication\n",
        "Matrix1 <- matrix(c(1, 2, 3, 4, 5, 6), nrow=3, ncol=2, byrow=TRUE)  # 3x2 matrix\n",
        "Matrix2 <- matrix(c(7, 8, 9, 10), nrow=2, ncol=2, byrow=TRUE)       # 2x2 matrix\n",
        "Vector <- c(11, 12)                                                 # 2-element vector\n",
        "Vector1 <- c(1, 2, 3)                                               # 3-element vector for dot product\n",
        "Vector2 <- c(4, 5, 6)                                               # 3-element vector for dot product\n",
        "\n",
        "# Matrix multiplication of two matrices\n",
        "matmul_matrices <- Matrix1 %*% Matrix2\n",
        "cat(\"\\nMatrix Multiplication of Matrix1 (3x2) and Matrix2 (2x2):\\n\")\n",
        "print(matmul_matrices)\n",
        "\n",
        "# Matrix-vector multiplication\n",
        "matmul_matrix_vector <- Matrix1 %*% Vector\n",
        "cat(\"\\nMatrix-Vector Multiplication of Matrix1 (3x2) and Vector (2-element):\\n\")\n",
        "print(matmul_matrix_vector)\n",
        "\n",
        "# Transpose of Matrix1\n",
        "transpose_Matrix1 <- t(Matrix1)\n",
        "cat(\"\\nTranspose of Matrix1 (3x2):\\n\")\n",
        "print(transpose_Matrix1)\n",
        "\n",
        "# Inverse of a 2x2 matrix (for example purposes, using Matrix2)\n",
        "inverse_Matrix2 <- solve(Matrix2)\n",
        "cat(\"\\nInverse of Matrix2 (2x2):\\n\")\n",
        "print(inverse_Matrix2)\n"
      ],
      "metadata": {
        "id": "UrsAwwVd_wJD"
      },
      "execution_count": null,
      "outputs": []
    },
    {
      "cell_type": "markdown",
      "source": [
        "### complete the missing lines below to perform linear regression and predict blood sugar level on the basis of individuals' gene expression profile"
      ],
      "metadata": {
        "id": "IpXVwvP2HGML"
      }
    },
    {
      "cell_type": "code",
      "source": [
        "library(caret)\n",
        "library(ggplot2)\n",
        "\n",
        "fit_normal_equations <- function(X, y) {\n",
        "    # Add a column of ones to X, this will be for the intercept values\n",
        "    X <- cbind(1, X)\n",
        "\n",
        "\n",
        "# 🌟🌟🌟🌟 YOUR CODE HERE 🌟🌟🌟🌟 Step 1: Compute X^T (transpose of X)\n",
        "# 🌟🌟🌟🌟 YOUR CODE HERE 🌟🌟🌟🌟 Step 2: Compute X^T %*% X (matrix multiplication)\n",
        "# 🌟🌟🌟🌟 YOUR CODE HERE 🌟🌟🌟🌟 Step 3: Compute the inverse of (X^T %*% X)\n",
        "# 🌟🌟🌟🌟 YOUR CODE HERE 🌟🌟🌟🌟 Step 4: Compute X^T %*% y (matrix multiplication)\n",
        "# 🌟🌟🌟🌟 YOUR CODE HERE 🌟🌟🌟🌟 theta = (X^T %*% X)^−1 %*% X^T %*% y Solve the normal equations\n",
        "\n",
        "    print(\"Estimated parameters:\")\n",
        "    print(\"Theta:\")\n",
        "    print(theta)\n",
        "\n",
        "    return(theta)\n",
        "}\n",
        "\n",
        "\n",
        "predict_normal <- function(X, theta) {\n",
        "  X_b <- cbind(1, X)  # Add a column of ones to X\n",
        "  return(X_b %*% theta)  # Make predictions w fitted values of theta\n",
        "}\n",
        "\n",
        "# set up predictors\n",
        "X <- all_samples  # input\n",
        "y <- blood_sugar_levels # outcome vaariable\n",
        "\n",
        "# Check dimensions and lengths\n",
        "print(paste('Dimensions of X:', dim(X)))\n",
        "print(paste('Length of y:', length(y)))\n",
        "\n",
        "# Split the data into training and test sets #   use the createDataPartition() function\n",
        "#🌟🌟🌟🌟 YOUR CODE HERE 🌟🌟🌟🌟# trainIndex <-\n",
        "\n",
        "# Check the length of trainIndex\n",
        "print(paste('Length of trainIndex:', length(trainIndex)))\n",
        "\n",
        "# Now try indexing\n",
        "X_train <- X[trainIndex,]\n",
        "X_test <- X[-trainIndex,]\n",
        "y_train <- y[trainIndex]\n",
        "y_test <- y[-trainIndex]\n",
        "\n",
        "# train the model with the data using the normal equations\n",
        "model <- fit_normal_equations(X_train, y_train)\n",
        "\n",
        "# Make predictions on test set\n",
        "y_pred <- predict_normal(X_test, model)  #  `model`, which contains the `theta` values\n",
        "\n",
        "\n",
        "# Calculate the RSS\n",
        "rss <- sum((y_test - y_pred)^2)\n",
        "\n",
        "# Calculate the r-squared\n",
        "tss <- sum((y_test - mean(y_test))^2)\n",
        "r2 <- 1 - (rss / tss)\n",
        "\n",
        "print(paste('Residual Sum of Squares:', rss))\n",
        "print(paste('R-squared:', r2))\n",
        "\n",
        "# plotting true vs predicted\n",
        "ggplot() +\n",
        "  geom_point(aes(x = y_test, y = y_pred)) +\n",
        "  xlab('True Blood Sugar Level (mg/dl)') +\n",
        "  ylab('Predicted (mg/dl)') +\n",
        "  ggtitle('True vs Predicted Blood Sugar Levels')\n",
        "\n"
      ],
      "metadata": {
        "id": "Qu77yanKSug8"
      },
      "execution_count": null,
      "outputs": []
    }
  ]
}