{
  "nbformat": 4,
  "nbformat_minor": 0,
  "metadata": {
    "colab": {
      "provenance": [],
      "authorship_tag": "ABX9TyO+qF73l41J2ufrUb70wbZ0",
      "include_colab_link": true
    },
    "kernelspec": {
      "name": "ir",
      "display_name": "R"
    },
    "language_info": {
      "name": "R"
    }
  },
  "cells": [
    {
      "cell_type": "markdown",
      "metadata": {
        "id": "view-in-github",
        "colab_type": "text"
      },
      "source": [
        "<a href=\"https://colab.research.google.com/github/Intertangler/ML4biotech/blob/main/cb206v_exercise6_deepneuralnetworks_R.ipynb\" target=\"_parent\"><img src=\"https://colab.research.google.com/assets/colab-badge.svg\" alt=\"Open In Colab\"/></a>"
      ]
    },
    {
      "cell_type": "markdown",
      "source": [
        "## import the data\n",
        "This artificial data represents the gene expression levels (normalized already) of two separate genes. The class labels associated with each data point indicate the presence or absence 1 or 0 of a particular downstream phenotype influenced by the genes. Our goal here is to detect a nonlinear relationship between the two gene expression levels that strongly correlates with the downstream phenotype."
      ],
      "metadata": {
        "id": "nRZguxgF_JLU"
      }
    },
    {
      "cell_type": "code",
      "execution_count": null,
      "metadata": {
        "id": "eYcEXOb-tLIW"
      },
      "outputs": [],
      "source": [
        "library(readr)\n",
        "url <- \"https://raw.githubusercontent.com/Intertangler/ML4biotech/main/gene_expression_XOR.csv\"\n",
        "df <- read_csv(url)\n",
        "X <- df[, -ncol(df)]\n",
        "y <- df[, ncol(df)]\n"
      ]
    },
    {
      "cell_type": "code",
      "source": [
        "install.packages(\"caret\")\n",
        "install.packages(\"caTools\")\n",
        "install.packages(\"pROC\")\n",
        "library(readr)\n",
        "library(dplyr)\n",
        "# Load required packages\n",
        "library(caTools)\n",
        "library(pROC)\n",
        "# Plotting\n",
        "# This part would go into a separate block if you are running in R Studio or similar\n",
        "library(ggplot2)"
      ],
      "metadata": {
        "id": "X1fIPmAg7Pzj"
      },
      "execution_count": null,
      "outputs": []
    },
    {
      "cell_type": "code",
      "source": [
        "url <- \"https://raw.githubusercontent.com/Intertangler/ML4biotech/main/gene_expression_XOR.csv\"\n",
        "df <- read_csv(url)\n",
        "\n",
        "X <- df %>% select(-last_col())\n",
        "y <- df %>% select(last_col())\n",
        "\n",
        "# Convert data frames to matrices or vectors as needed\n",
        "X <- as.matrix(X)\n",
        "y <- as.vector(y[[1]])\n",
        "\n",
        "# shuffle data and labels\n",
        "shuffle_idx <- sample(seq_len(nrow(X)), replace = FALSE)\n",
        "X <- X[shuffle_idx, , drop = FALSE]\n",
        "y <- y[shuffle_idx]\n",
        "\n",
        "set.seed(428) # Seed random number gen\n",
        "\n",
        "# Split data to training/testing subsets\n",
        "split <- sample.split(y, SplitRatio = 0.8)\n",
        "X_train <- X[split, ]\n",
        "y_train <- y[split]\n",
        "X_test <- X[!split, ]\n",
        "y_test <- y[!split]\n",
        "\n",
        "# Prepare the data frame for ggplot\n",
        "data_plot <- data.frame(X1 = X_train[, 1], X2 = X_train[, 2], Class = as.factor(y_train))\n",
        "\n",
        "# Plot data points using ggplot\n",
        "ggplot(data = data_plot, aes(x = X1, y = X2, color = Class)) +\n",
        "  geom_point() +\n",
        "  xlab(\"Gene Expression 1\") +\n",
        "  ylab(\"Gene Expression 2\") +\n",
        "  scale_color_manual(name = \"Pehnotype\", values = c(\"0\" = \"red\", \"1\" = \"blue\")) +\n",
        "  theme_minimal() +\n",
        "  theme(legend.position = \"bottom\")"
      ],
      "metadata": {
        "id": "rHeKXSnu6x19"
      },
      "execution_count": null,
      "outputs": []
    },
    {
      "cell_type": "markdown",
      "source": [
        "## exercise\n",
        "Complete the missing lines.\n",
        "Use the Keras library to construct a deep neural network - define the model type, its architecture by deciding the number of layers and nodes, the activation function. Compile the model with appropriate loss function, and learning rate scheduling mechanism.\n",
        "\n",
        "The code after this section will then fit the model to the training input and output data. And then a test data set that has been set aside will be used to score the performance with an ROC curve. Compare the performance of your model to a logistic regression. If things have been set up right, the neural network should outperform the logistic regression.\n"
      ],
      "metadata": {
        "id": "njqTB0NY_rVF"
      }
    },
    {
      "cell_type": "code",
      "source": [
        "# load required packages\n",
        "library(nnet)\n",
        "library(pROC)\n",
        "library(caTools)\n",
        "library(ggplot2)\n",
        "library(dplyr)\n",
        "\n",
        "# set seed for reproducibility\n",
        "set.seed(428)\n",
        "\n",
        "\n",
        "#🌟🌟🌟🌟 YOUR CODE HERE 🌟🌟🌟🌟#  # define the neural network model with 20 hidden units and a sigmoid output\n",
        "\n",
        "\n",
        "\n",
        "\n",
        "\n",
        "# make probability predictions on the test set\n",
        "mlp_prob <- predict(mlp_model, X_test, type = \"raw\")\n",
        "\n",
        "# generate ROC data for MLP\n",
        "roc_data_mlp <- roc(y_test, mlp_prob)\n",
        "mlp_fpr <- 1 - roc_data_mlp$specificities\n",
        "mlp_tpr <- roc_data_mlp$sensitivities\n",
        "mlp_auc <- auc(roc_data_mlp)\n",
        "\n",
        "# train a logistic regression model for comparison\n",
        "logreg_model <- glm(y_train ~ ., data = data.frame(y_train, X_train), family = binomial)\n",
        "\n",
        "# make probability predictions on the test set using logistic regression\n",
        "logreg_prob <- predict(logreg_model, newdata = data.frame(X_test), type = \"response\")\n",
        "\n",
        "# generate ROC data for logistic regression\n",
        "roc_data_logreg <- roc(y_test, logreg_prob)\n",
        "logreg_fpr <- 1 - roc_data_logreg$specificities\n",
        "logreg_tpr <- roc_data_logreg$sensitivities\n",
        "logreg_auc <- auc(roc_data_logreg)\n",
        "\n",
        "# minimum number of points between the two ROC curves\n",
        "min_length <- min(length(logreg_fpr), length(mlp_fpr))\n",
        "\n",
        "# Interpolate both ROC curves to have the same number of points\n",
        "logreg_fpr_interp <- approx(x = seq_along(logreg_fpr), y = logreg_fpr, n = min_length)$y\n",
        "logreg_tpr_interp <- approx(x = seq_along(logreg_tpr), y = logreg_tpr, n = min_length)$y\n",
        "mlp_fpr_interp <- approx(x = seq_along(mlp_fpr), y = mlp_fpr, n = min_length)$y\n",
        "mlp_tpr_interp <- approx(x = seq_along(mlp_tpr), y = mlp_tpr, n = min_length)$y\n",
        "\n",
        "# data frame for ggplot with interpolated values\n",
        "roc_df <- data.frame(\n",
        "  FPR = c(logreg_fpr_interp, mlp_fpr_interp),\n",
        "  TPR = c(logreg_tpr_interp, mlp_tpr_interp),\n",
        "  Model = factor(rep(c(\"Logistic Regression\", \"MLP\"), each = min_length))\n",
        ")\n",
        "\n",
        "# ROC plot\n",
        "ggplot(roc_df, aes(x = FPR, y = TPR, color = Model)) +\n",
        "  geom_line() +\n",
        "  geom_abline(intercept = 0, slope = 1, linetype = \"dashed\", color = \"grey\") +\n",
        "  xlab(\"False Positive Rate\") +\n",
        "  ylab(\"True Positive Rate\") +\n",
        "  ggtitle(sprintf(\"ROC Curve\\nLogistic AUC = %0.2f, MLP AUC = %0.2f\", logreg_auc, mlp_auc)) +\n",
        "  theme_minimal() +\n",
        "  theme(legend.position = \"bottom\")\n",
        "\n"
      ],
      "metadata": {
        "id": "vMUHqtcifGJc"
      },
      "execution_count": null,
      "outputs": []
    },
    {
      "cell_type": "code",
      "source": [],
      "metadata": {
        "id": "hkjHjNGVAveh"
      },
      "execution_count": null,
      "outputs": []
    }
  ]
}