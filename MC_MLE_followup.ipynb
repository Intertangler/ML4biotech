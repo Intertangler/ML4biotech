{
  "nbformat": 4,
  "nbformat_minor": 0,
  "metadata": {
    "colab": {
      "provenance": [],
      "authorship_tag": "ABX9TyNXpAm6n7zItNYdRhPDhwjd",
      "include_colab_link": true
    },
    "kernelspec": {
      "name": "python3",
      "display_name": "Python 3"
    },
    "language_info": {
      "name": "python"
    }
  },
  "cells": [
    {
      "cell_type": "markdown",
      "metadata": {
        "id": "view-in-github",
        "colab_type": "text"
      },
      "source": [
        "<a href=\"https://colab.research.google.com/github/Intertangler/ML4biotech/blob/main/MC_MLE_followup.ipynb\" target=\"_parent\"><img src=\"https://colab.research.google.com/assets/colab-badge.svg\" alt=\"Open In Colab\"/></a>"
      ]
    },
    {
      "cell_type": "markdown",
      "source": [
        "## Follow up Monte Carlo exercise\n",
        "\n",
        "Let's use random numbers to generate statistical data - the Monte Carlo method.\n",
        "\n",
        "Suppose we are immobilizing proteins on a surface with a density of 10 molecules per 100 nm^2 patch. Those proteins, if sufficiently close to one another, may interact, and we are thus interested in knowing how close together they tend to be. What is the distribution of distances between proteins at this distance?\n",
        "\n",
        "To investigate this problem, we can first simulate a 2d space and use random number generation to choose coordinates of proteins randomly, simulating their positions. Then we can loop through each one and check their distances with other proteins. For each protein, there will be one other protein whose distance is closer than all other proteins in the space - its nearest neighbor. We can keep track of the nearest neighbors for each protein, and collect these data into a list. This data can be binned and placed into a histogram to visualize it at the end."
      ],
      "metadata": {
        "id": "Sc2jM-xAciJP"
      }
    },
    {
      "cell_type": "code",
      "execution_count": null,
      "metadata": {
        "id": "O4s11L02choX"
      },
      "outputs": [],
      "source": [
        "\"\"\"\n",
        "First we are going to make a function that can measure distances. If we recall\n",
        "back to our geometry - the distance between two points can be computed as the\n",
        "square root of the differences between x and y points squared. So this function\n",
        "should accept as its input one x,y coordinate and a second x,y coordinate. And then\n",
        "its output will be the distance computed between the two.\n",
        "\"\"\"\n",
        "\n",
        "import random\n",
        "import math\n",
        "import matplotlib.pyplot as plt\n",
        "\n",
        "def calculate_distance(point1, point2):\n",
        "    \"\"\"Calculate the distance between two points in 2D space.\"\"\"\n",
        "    return math.sqrt((point1[0] - point2[0])**2 + (point1[1] - point2[1])**2)\n",
        "\n",
        "\n",
        "\"\"\"\n",
        "next is the monte carlo simulation loop. The loop will repeat many times - i.e.\n",
        "many simulations. At the beginning of each simulation, a space is initialized\n",
        "by picking several random coordinates, i.e. uniformly generating a random x value\n",
        "and a random y value for as many points as we want to make.\n",
        "\"\"\"\n",
        "distances = []\n",
        "\n",
        "simulations = 1000\n",
        "for _ in range(simulations):\n",
        "  # Define the 2D space\n",
        "  space_size = 100  # in nm\n",
        "  molecule_density = 10\n",
        "\n",
        "  # andomly place 10 molecules within the space\n",
        "  molecules = [(random.uniform(0, space_size), random.uniform(0, space_size)) for _ in range(molecule_density)]\n",
        "\n",
        "\"\"\"\n",
        "next step is we want to compute the distances between each point using our distance\n",
        "measuring function. a way to do this is with two for loops (i.e. nested for loops).\n",
        "in other words, for each point we are going to look at all other points and check\n",
        "their distances. We will keep track of the smallest distance\n",
        "encountered so far for each point. This is the nearest neighbor distance that will\n",
        "go into the result array \"distances\".\n",
        "\"\"\"\n",
        "\n",
        "\n",
        "  # Calculate the distances between each pair of molecules and find the nearest neighbor\n",
        "  for i in range(molecule_density):\n",
        "      nearest_neighbor_distance = float('inf')  # Start with a very large initial value\n",
        "      for j in range(molecule_density):\n",
        "          if i != j:  # Ensure we are not comparing the molecule with itself\n",
        "              #🌟🌟🌟🌟 YOUR CODE HERE 🌟🌟🌟🌟#  # Calculate the distance between molecule i and molecule j\n",
        "              #🌟🌟🌟🌟 YOUR CODE HERE 🌟🌟🌟🌟#  # If this distance is the smallest found so far, update nearest_neighbor_distance\n",
        "                  #🌟🌟🌟🌟 YOUR CODE HERE 🌟🌟🌟🌟#\n",
        "      distances.append(nearest_neighbor_distance)  # After checking all other molecules, add the smallest found distance to the list\n",
        "\n",
        "\n",
        "# Step 4: Plot a histogram of the nearest neighbor distances\n",
        "plt.hist(distances, bins='auto')\n",
        "plt.title('Distribution of Nearest Neighbor Distances Between Proteins')\n",
        "plt.xlabel('Distance (nm)')\n",
        "plt.ylabel('Frequency')\n",
        "plt.show()\n"
      ]
    },
    {
      "cell_type": "code",
      "source": [
        "results = np.genfromtxt(\"https://github.com/Intertangler/ML4biotech/blob/main/distances.txt\", dtype=int).tolist()\n"
      ],
      "metadata": {
        "colab": {
          "base_uri": "https://localhost:8080/",
          "height": 0
        },
        "id": "-ZLhAfyoJB8e",
        "outputId": "d2c0002a-4af3-440e-afe1-e6f356f6836b"
      },
      "execution_count": 18,
      "outputs": [
        {
          "output_type": "stream",
          "name": "stdout",
          "text": [
            "Distances have been saved to 'distances.txt'\n"
          ]
        }
      ]
    },
    {
      "cell_type": "code",
      "source": [
        "%load_ext rpy2.ipython"
      ],
      "metadata": {
        "id": "lczUY0siehoP",
        "colab": {
          "base_uri": "https://localhost:8080/",
          "height": 0
        },
        "outputId": "7c42632e-4c43-4cbe-dbfd-ec26e758eeda"
      },
      "execution_count": 10,
      "outputs": [
        {
          "output_type": "stream",
          "name": "stdout",
          "text": [
            "The rpy2.ipython extension is already loaded. To reload it, use:\n",
            "  %reload_ext rpy2.ipython\n"
          ]
        }
      ]
    },
    {
      "cell_type": "code",
      "source": [
        "%%R\n",
        "\n",
        "\n",
        "#First we are going to make a function that can measure distances. If we recall\n",
        "#back to our geometry - the distance between two points can be computed as the\n",
        "#square root of the differences between x and y points squared. So this function\n",
        "#should accept as its input one x,y coordinate and a second x,y coordinate. And then\n",
        "#its output will be the distance computed between the two.\n",
        "\n",
        "library(ggplot2)\n",
        "\n",
        "calculate_distance <- function(point1, point2) {\n",
        "  sqrt((point1[1] - point2[1])^2 + (point1[2] - point2[2])^2)\n",
        "}\n",
        "\n",
        "#next is the monte carlo simulation loop. The loop will repeat many times - i.e.\n",
        "#many simulations. At the beginning of each simulation, a space is initialized\n",
        "#by picking several random coordinates, i.e. uniformly generating a random x value\n",
        "#and a random y value for as many points as we want to make.\n",
        "\n",
        "simulate_monte_carlo <- function(simulations, space_size, molecule_density) {\n",
        "  distances <- c()\n",
        "\n",
        "  for (sim in 1:simulations) {\n",
        "    # Step 2: Randomly place 10 molecules within the space\n",
        "    molecules <- matrix(runif(molecule_density * 2, 0, space_size), ncol=2)\n",
        "    #next step is we want to compute the distances between each point using our distance\n",
        "    #measuring function. a way to do this is with two for loops (i.e. nested for loops).\n",
        "    #in other words, for each point we are going to look at all other points and check\n",
        "    #their distances. We will keep track of the smallest distance\n",
        "    #encountered so far for each point. This is the nearest neighbor distance that will\n",
        "    #go into the result array \"distances\".\n",
        "\n",
        "    # Step 3: Calculate the distances between each pair of molecules and find the nearest neighbor\n",
        "    for (i in 1:molecule_density) {\n",
        "      current_molecule <- molecules[i, ]\n",
        "      nearest_neighbor_distance <- NULL\n",
        "\n",
        "      for (j in 1:nrow(molecules)) {\n",
        "        if (i != j) {\n",
        "              #🌟🌟🌟🌟 YOUR CODE HERE 🌟🌟🌟🌟#  # Calculate the distance between molecule i and molecule j\n",
        "              #🌟🌟🌟🌟 YOUR CODE HERE 🌟🌟🌟🌟#  # If this distance is the smallest found so far, update nearest_neighbor_distance\n",
        "                  #🌟🌟🌟🌟 YOUR CODE HERE 🌟🌟🌟🌟#\n",
        "        }\n",
        "      }\n",
        "\n",
        "      distances <- c(distances, nearest_neighbor_distance)\n",
        "    }\n",
        "  }\n",
        "\n",
        "  distances\n",
        "}\n",
        "\n",
        "# Parameters\n",
        "simulations <- 10000\n",
        "space_size <- 100\n",
        "molecule_density <- 10\n",
        "\n",
        "# Get distances\n",
        "distances <- simulate_monte_carlo(simulations, space_size, molecule_density)\n",
        "\n",
        "# Step 4: Plot a histogram of the nearest neighbor distances\n",
        "ggplot() +\n",
        "  geom_histogram(aes(x = distances), bins = 30, fill = \"blue\", alpha = 0.7) +\n",
        "  labs(title = 'Distribution of Nearest Neighbor Distances Between Proteins',\n",
        "       x = 'Distance (nm)',\n",
        "       y = 'Frequency') +\n",
        "  theme_minimal()\n",
        "\n"
      ],
      "metadata": {
        "id": "myKQoqHXeiJu"
      },
      "execution_count": null,
      "outputs": []
    },
    {
      "cell_type": "markdown",
      "source": [
        "## Follow up MLE exercise\n",
        "\n",
        "Now that we have some data from the previous exercise (or import one that we have prepared for you on github), we can fit a known analytical distribution function to that data. The analytical distribution funciton that describes the distribution of distances in 2D space is the Rayleigh distribution, a special case of the Weibull distribution. It has the formula:\n",
        "\n",
        "$$ f(r;\\sigma) = \\frac{r}{\\sigma²}e^{-\\frac{r²}{2\\sigma²}} $$\n",
        "\n",
        "In other words, there is a random variable which is radial distance r, and it accepts a parameter, sigma, which is the mean distance between points. Let's fit the Rayleigh distribution to the data you generated by first making a probability function for the formula above, and then use that formula to compute a negative log likelihood for each of the data points gathered. That negative log likelihood will then be used as the loss function for the minimizer, that will then identify the estimated maximum likelihood estimate parameter that fits the function to the data."
      ],
      "metadata": {
        "id": "aTeqxjZ2ej72"
      }
    },
    {
      "cell_type": "code",
      "source": [
        "\"\"\"\n",
        "first lets import the needed libraries and the data, if you havent generated it\n",
        "from the previous exercise. Running the url importing code below will fetch a set\n",
        "of distances - nearest neighbor distances between randomly scattered points representing\n",
        "the proteins. If you try printing out the distances variable, you will see a big\n",
        "list of distance values.\n",
        "\"\"\"\n",
        "\n",
        "from scipy.optimize import minimize\n",
        "import numpy as np\n",
        "import matplotlib.pyplot as plt\n",
        "\n",
        "\n",
        "url = \"https://raw.githubusercontent.com/Intertangler/ML4biotech/main/distances.txt\"\n",
        "distances = np.genfromtxt(url)\n",
        "print(distances[0:100])\n",
        "\n",
        "\n",
        "\"\"\"\n",
        "next what we want to do is make a probability function that accepts input parameter sigma\n",
        "and a value of the main random variable (r distance) and then outputs a probability.\n",
        "This represents the frequency we should expect for that particular nearest neighbor\n",
        "distance, given a particular average distance parameter sigma.\n",
        "\"\"\"\n",
        "def rayleigh_pdf(r, sigma):\n",
        "    \"\"\"Rayleigh probability density function\"\"\"\n",
        "    return (r / sigma**2) * np.exp(-(r**2) / (2 * sigma**2))\n",
        "\n",
        "\"\"\"\n",
        "next what we want to do is go through the data and compute the likelihoods - i.e.\n",
        "a function that accepts an input parameter sigma and then loops through each data\n",
        "point to evaluate the probability at that respective distance and with whatever\n",
        "parameter value it happens to be examining. this will be used as the key function\n",
        "that the optimizer will work on - systematically tweaking the parameter value to\n",
        "get a favorable overall likelihood for all the data points. again, since we are working\n",
        "with numerical methods which prefer sums over products, we use the logarithm of the\n",
        "probability instead of just multiplying them, enabling us to gather the overall\n",
        "likelihood as a summation instead. and finally, since the optimizer we are using\n",
        "is a minimizer, we will use the negative log likelihood at the end to turn the whole\n",
        "thing into a penalty or \"loss function\"\n",
        "\"\"\"\n",
        "def nll(sigma, data):\n",
        "    log_likelihood = 0\n",
        "    for r in data:\n",
        "        #🌟🌟🌟🌟 YOUR CODE HERE 🌟🌟🌟🌟# #evaluate the pdf to get a likelihood for the given parameters\n",
        "        #🌟🌟🌟🌟 YOUR CODE HERE 🌟🌟🌟🌟## take the log of the likelihood now\n",
        "    return -log_likelihood\n",
        "\n",
        "\n",
        "\"\"\"\n",
        "now all that is left is to run the optimization. this part has been set up for you\n",
        "already, and will start with an initial guess, manipulate the parameter value,\n",
        "and spit out a maximum likelihood estimation value of that parameter. the final\n",
        "parameter can be used to generate the fitted curve and compare it to the original data\n",
        "plotted in the background as a histogram.\n",
        "\"\"\"\n",
        "# Initial parameter guesses -\n",
        "# Optimization is more likely to converge if chosen well\n",
        "initial_guess = [20]  # Start with a reasonable guess for sigma\n",
        "\n",
        "# perform the optimization by feeding in the function (nll) and iteration number\n",
        "result = minimize(nll, initial_guess, args=(distances), options={'maxiter': 1000000})\n",
        "\n",
        "# Extract the fitted parameter\n",
        "fitted_sigma = result.x[0]\n",
        "print(f\"Fitted parameter: sigma = {fitted_sigma}\")\n",
        "\n",
        "# Plot histogram of original data\n",
        "plt.hist(distances, bins='auto', density=True, label='Simulated Data')\n",
        "\n",
        "# Plotting the fitted distribution on top\n",
        "r_values = np.linspace(0, max(distances), 100)\n",
        "probabilities = [rayleigh_pdf(r, fitted_sigma) for r in r_values]\n",
        "plt.plot(r_values, probabilities, 'r-', label='Fitted Distribution')\n",
        "plt.xlabel('Distance (nm)')\n",
        "plt.ylabel('Probability Density')\n",
        "plt.legend()\n",
        "plt.title('Distribution of Nearest Distances Between Proteins')\n",
        "plt.show()\n"
      ],
      "metadata": {
        "id": "auP7GOe_f_6t"
      },
      "execution_count": null,
      "outputs": []
    },
    {
      "cell_type": "code",
      "source": [
        "%load_ext rpy2.ipython"
      ],
      "metadata": {
        "id": "0x_GBvyDWsVl"
      },
      "execution_count": 2,
      "outputs": []
    },
    {
      "cell_type": "code",
      "source": [
        "%%R\n",
        "install.packages(\"optimx\")"
      ],
      "metadata": {
        "id": "E4S2GVr7Sk4J"
      },
      "execution_count": null,
      "outputs": []
    },
    {
      "cell_type": "code",
      "source": [
        "%%R\n",
        "\n",
        "#first lets import the needed libraries and the data, if you havent generated it\n",
        "#from the previous exercise. Running the url importing code below will fetch a set\n",
        "#of distances - nearest neighbor distances between randomly scattered points representing\n",
        "#the proteins. If you try printing out the distances variable, you will see a big\n",
        "#list of distance values.\n",
        "\n",
        "library(optimx)\n",
        "\n",
        "# Import the necessary data\n",
        "url <- \"https://raw.githubusercontent.com/Intertangler/ML4biotech/main/distances.txt\"\n",
        "distances <- read.table(url, sep = \"\\n\")[[1]]\n",
        "print(head(distances, 100))\n",
        "\n",
        "\n",
        "#next what we want to do is make a probability function that accepts input parameter sigma\n",
        "#and a value of the main random variable (r distance) and then outputs a probability.\n",
        "#This represents the frequency we should expect for that particular nearest neighbor\n",
        "#distance, given a particular average distance parameter sigma.\n",
        "\n",
        "\n",
        "# Define the Rayleigh probability density function\n",
        "rayleigh_pdf <- function(r, sigma) {\n",
        "  return((r / sigma^2) * exp(-(r^2) / (2 * sigma^2)))\n",
        "}\n",
        "\n",
        "\n",
        "#next what we want to do is go through the data and compute the likelihoods - i.e.\n",
        "#a function that accepts an input parameter sigma and then loops through each data\n",
        "#point to evaluate the probability at that respective distance and with whatever\n",
        "#parameter value it happens to be examining. this will be used as the key function\n",
        "#that the optimizer will work on - systematically tweaking the parameter value to\n",
        "#get a favorable overall likelihood for all the data points. again, since we are working\n",
        "#with numerical methods which prefer sums over products, we use the logarithm of the\n",
        "#probability instead of just multiplying them, enabling us to gather the overall\n",
        "#likelihood as a summation instead. and finally, since the optimizer we are using\n",
        "#is a minimizer, we will use the negative log likelihood at the end to turn the whole\n",
        "#thing into a penalty or \"loss function\"\n",
        "\n",
        "# Define the function to calculate the negative log likelihood\n",
        "nll <- function(sigma, data) {\n",
        "  log_likelihood <- 0\n",
        "  for (r in data) {\n",
        "        #🌟🌟🌟🌟 YOUR CODE HERE 🌟🌟🌟🌟# #evaluate the pdf to get a likelihood for the given parameters\n",
        "        #🌟🌟🌟🌟 YOUR CODE HERE 🌟🌟🌟🌟## take the log of the likelihood now\n",
        "  }\n",
        "  return(-log_likelihood)\n",
        "}\n",
        "\n",
        "\n",
        "\n",
        "#now all that is left is to run the optimization. this part has been set up for you\n",
        "#already, and will start with an initial guess, manipulate the parameter value,\n",
        "#and spit out a maximum likelihood estimation value of that parameter. the final\n",
        "#parameter can be used to generate the fitted curve and compare it to the original data\n",
        "#plotted in the background as a histogram.\n",
        "\n",
        "# RUN THE OPTIMIZATION! 🔥🔥🔥\n",
        "initial_guess <- 20\n",
        "result <- optim(par = 20, fn = nll, data = distances, method = \"BFGS\", control = list(maxit = 1000000))\n",
        "print(result)\n",
        "fitted_sigma <- result$par\n",
        "print(paste(\"Fitted parameter: sigma =\", fitted_sigma))\n",
        "\n",
        "# Plot the histogram of original data and the fitted distribution\n",
        "hist(distances, breaks = \"FD\", freq = FALSE, xlim = c(0, max(distances)), main = \" Nearest Distances Between Proteins\", xlab = \"Distance (nm)\", ylab = \"Probability Density\")\n",
        "\n",
        "r_values <- seq(0, max(distances), length.out = 100)\n",
        "probabilities <- sapply(r_values, rayleigh_pdf, sigma = fitted_sigma)\n",
        "lines(r_values, probabilities, col = 'red')\n",
        "\n",
        "legend(\"topright\", legend = c('Simulated Data', 'Fitted Distribution'))\n",
        "\n"
      ],
      "metadata": {
        "id": "tmiJ31GLhaLG"
      },
      "execution_count": null,
      "outputs": []
    },
    {
      "cell_type": "code",
      "source": [],
      "metadata": {
        "id": "d9tWEK4dWdXz"
      },
      "execution_count": null,
      "outputs": []
    }
  ]
}