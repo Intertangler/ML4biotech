{
  "nbformat": 4,
  "nbformat_minor": 0,
  "metadata": {
    "colab": {
      "provenance": [],
      "authorship_tag": "ABX9TyNBHbRV/wiHBC481lvhSpk/",
      "include_colab_link": true
    },
    "kernelspec": {
      "name": "python3",
      "display_name": "Python 3"
    },
    "language_info": {
      "name": "python"
    }
  },
  "cells": [
    {
      "cell_type": "markdown",
      "metadata": {
        "id": "view-in-github",
        "colab_type": "text"
      },
      "source": [
        "<a href=\"https://colab.research.google.com/github/Intertangler/ML4biotech/blob/main/ML4BT_00_followup_R.ipynb\" target=\"_parent\"><img src=\"https://colab.research.google.com/assets/colab-badge.svg\" alt=\"Open In Colab\"/></a>"
      ]
    },
    {
      "cell_type": "markdown",
      "source": [
        "These exercises are for some extra exposure to basic programming for scientific computing which will be helpful when studying machine learning. It will cover the ideas below:\n",
        "\n",
        "1. basic programming syntax, defining variables, common data types\n",
        "2. building blocks of programs - for-loops, if-statements\n",
        "3. functions with input parameters and output return variables\n",
        "4. sequential data types like lists, and indexing and manipulating\n",
        "5. basic plotting and visualization\n",
        "6. utilizing external libraries or packages like numpy, random, scikitlearn"
      ],
      "metadata": {
        "id": "LPkPrEWRN82D"
      }
    },
    {
      "cell_type": "code",
      "execution_count": 1,
      "metadata": {
        "id": "vRsbhuzxNWT2"
      },
      "outputs": [],
      "source": [
        "%load_ext rpy2.ipython"
      ]
    },
    {
      "cell_type": "markdown",
      "source": [
        "\n",
        "Exercise 1. (R) Let's write a basic Python function to practice for-loops and list\n",
        "data structures. The function will compute the mean from an input data list.\n",
        "It will do this by looping through all of the items in the vector, summing them,\n",
        "and at the end dividing by the total number of items. The function will then\n",
        "return the output, the mean, as the result of the computation.\n"
      ],
      "metadata": {
        "id": "t4z_lZLhOeSw"
      }
    },
    {
      "cell_type": "code",
      "source": [
        "%%R\n",
        "\n",
        "# Define the function to calculate the mean\n",
        "calculate_mean <- function(data) {\n",
        "  # Initialize sum and count variables\n",
        "  total_sum <- 0\n",
        "  count <- 0\n",
        "\n",
        "  # Loop through each item in the data list\n",
        "  for (item in data) {\n",
        "    ### YOUR CODE HERE ###\n",
        "  }\n",
        "\n",
        "  # Calculate the mean\n",
        "  mean_value <- total_sum / count\n",
        "\n",
        "  return(mean_value)\n",
        "}\n",
        "\n",
        "# Sample data list\n",
        "sample_list <- c(1, 2, 3, 4, 5)\n",
        "\n",
        "# Calculate and print the mean of the sample list\n",
        "result <- calculate_mean(sample_list)\n",
        "cat(\"sample mean:\", result, \"\\n\")\n"
      ],
      "metadata": {
        "colab": {
          "base_uri": "https://localhost:8080/",
          "height": 0
        },
        "id": "jXc6pLCeNXRE",
        "outputId": "36b58525-30fe-450f-c5c0-892fed7170d3"
      },
      "execution_count": 6,
      "outputs": [
        {
          "output_type": "stream",
          "name": "stdout",
          "text": [
            "sample mean: 3 \n"
          ]
        }
      ]
    },
    {
      "cell_type": "markdown",
      "source": [
        "Exercise 2. Let's perform a common scientific programming task, that of\n",
        "visualizing some data with a histogram. Below we have a list of lead ppm\n",
        "concentration measurements from a population of fish. Make a histogram\n",
        "and use a bar chart\n",
        "to visualize the histogram."
      ],
      "metadata": {
        "id": "jhdUeikrRMUq"
      }
    },
    {
      "cell_type": "code",
      "source": [
        "%%R\n",
        "# Given data for lead ppm measurements\n",
        "lead_ppm_measurements <- c(5.76, 6.2, 0.34, 0.05, 1.4, 5.28, 4.69, 2.45, 4.08, 6.67, 5.52, 4.48, 4.24, 5.34, 1.65, 5.33, 5.47, 0.94, 7.57, 4.97, 0.83, 5.77, 0.69, 1.49, 0.19, 0.09, 0.09, 5.61, 4.0, 4.56, 5.88, 3.58, 0.41, 4.94, 0.83, 3.81, 5.72, 4.63, 2.11, 0.98)\n",
        "\n",
        "# Define the number of bins and initialize them with zeros\n",
        "n_bins <- 100\n",
        "min_value <- min(lead_ppm_measurements)\n",
        "max_value <- max(lead_ppm_measurements)\n",
        "bin_width <- (max_value - min_value) / n_bins\n",
        "histogram_bins <- rep(0, n_bins)\n",
        "\n",
        "# Populate the bins with frequency data\n",
        "for (measurement in lead_ppm_measurements) {\n",
        "  ### YOUR CODE HERE ###\n",
        "  }\n",
        "  histogram_bins[bin_index + 1] <- histogram_bins[bin_index + 1] + 1 # Adding 1 because R indexing starts at 1\n",
        "}\n",
        "\n",
        "# Time to visualize the data using a barplot\n",
        "barplot(histogram_bins, xlim = c(min_value, max_value), ylim = c(0, max(histogram_bins)), col = \"blue\",\n",
        "        xlab = \"Lead ppm\", ylab = \"Frequency\", main = \"Lead ppm Histogram\")\n"
      ],
      "metadata": {
        "id": "HEwIBOM_NlIG"
      },
      "execution_count": null,
      "outputs": []
    }
  ]
}