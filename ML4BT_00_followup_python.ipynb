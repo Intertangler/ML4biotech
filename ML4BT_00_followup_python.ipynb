{
  "nbformat": 4,
  "nbformat_minor": 0,
  "metadata": {
    "colab": {
      "provenance": [],
      "authorship_tag": "ABX9TyNO6TXbbL3cD9vzwtkmwex3",
      "include_colab_link": true
    },
    "kernelspec": {
      "name": "python3",
      "display_name": "Python 3"
    },
    "language_info": {
      "name": "python"
    }
  },
  "cells": [
    {
      "cell_type": "markdown",
      "metadata": {
        "id": "view-in-github",
        "colab_type": "text"
      },
      "source": [
        "<a href=\"https://colab.research.google.com/github/Intertangler/ML4biotech/blob/main/ML4BT_00_followup_python.ipynb\" target=\"_parent\"><img src=\"https://colab.research.google.com/assets/colab-badge.svg\" alt=\"Open In Colab\"/></a>"
      ]
    },
    {
      "cell_type": "markdown",
      "source": [
        "These exercises are for some extra exposure to basic programming for scientific computing which will be helpful when studying machine learning. It will cover the ideas below:\n",
        "\n",
        "1. basic programming syntax, defining variables, common data types\n",
        "2. building blocks of programs - for-loops, if-statements\n",
        "3. functions with input parameters and output return variables\n",
        "4. sequential data types like lists, and indexing and manipulating\n",
        "5. basic plotting and visualization\n",
        "6. utilizing external libraries or packages like numpy, random, scikitlearn"
      ],
      "metadata": {
        "id": "1NazMTiZ-tP9"
      }
    },
    {
      "cell_type": "code",
      "source": [
        "\"\"\"\n",
        "Exercise 1. (PYTHON) Let's write a basic Python function to practice for-loops and list\n",
        "data structures. The function will compute the mean from an input data list.\n",
        "It will do this by looping through all of the items in the list, summing them,\n",
        "and at the end dividing by the total number of items. The function will then\n",
        "return the output, the mean, as the result of the computation.\n",
        "\"\"\"\n",
        "\n",
        "def mean(data):\n",
        "    # Initialize sum and count variables\n",
        "    total_sum = 0\n",
        "    count = 0\n",
        "\n",
        "    # Now we loop through each item in the data list\n",
        "    for item in data:\n",
        "        ### YOUR CODE HERE ###\n",
        "\n",
        "    mean = total_sum / count\n",
        "\n",
        "    return mean\n",
        "\n",
        "\n",
        "sample_list = [1, 2, 3, 4, 5]\n",
        "result = mean(sample_list)\n",
        "print(f\"The mean of the sample list is: {result}\")\n"
      ],
      "metadata": {
        "id": "pauqrfFu0sWU",
        "colab": {
          "base_uri": "https://localhost:8080/",
          "height": 0
        },
        "outputId": "ad268f8c-0429-4cf2-977a-cb526d11d5ee"
      },
      "execution_count": 3,
      "outputs": [
        {
          "output_type": "stream",
          "name": "stdout",
          "text": [
            "The mean of the sample list is: 3.0\n"
          ]
        }
      ]
    },
    {
      "cell_type": "code",
      "source": [
        "\"\"\"\n",
        "Exercise 2. Let's perform a common scientific programming task, that of\n",
        "visualizing some data with a histogram. Below we have a list of lead ppm\n",
        "concentration measurements from a population of fish. Make a histogram\n",
        "with 100 bins by building a loop that identifies the appropriate bin and\n",
        "increments the count (frequency) of that bin. Then, let's use a bar chart\n",
        "to visualize the histogram.\n",
        "\"\"\"\n",
        "# here is our data file - it's 150 data points!\n",
        "lead_ppm_measurements = [5.76, 6.2, 0.34, 0.05, 1.4, 5.28, 4.69, 2.45, 4.08, 6.67, 5.52, 4.48, 4.24, 5.34, 1.65, 5.33, 5.47, 0.94, 7.57, 4.97, 0.83, 5.77, 0.69, 1.49, 0.19, 0.09, 0.09, 5.61, 4.0, 4.56, 5.88, 3.58, 0.41, 4.94, 0.83, 3.81, 5.72, 4.63, 2.11, 0.98, 1.29, 4.46, 6.07, 1.12, 5.1, 1.75, 2.26, 4.51, 1.12, 4.02, 0.57, 0.93, 3.89, 4.66, 0.15, 5.56, 4.81, 4.41, 2.05, 7.01, 4.58, 0.43, 4.46, 4.37, 0.31, 1.59, 2.23, 5.76, 3.98, 0.03, 6.52, 4.21, 0.2, 0.4, 6.18, 3.4, 0.39, 2.35, 5.73, 1.86, 3.13, 1.59, 5.68, 6.59, 5.06, 0.77, 6.58, 4.51, 4.47, 7.3, 3.29, 5.34, 0.51, 4.8, 2.35, 0.39, 5.17, 0.6, 3.62, 5.41, 5.33, 3.22, 3.62, 2.7, 0.66, 5.49, 3.39, 6.79, 0.24, 5.7, 3.37, 3.0, 1.48, 1.48, 5.07, 1.99, 6.09, 9.91, 5.62, 1.47, 2.1, 5.87, 7.46, 0.26, 4.45, 5.93, 6.19, 5.71, 4.76, 4.97, 5.95, 6.37, 4.2, 0.94, 0.35, 7.14, 5.95, 2.0, 5.29, 1.12, 0.9, 4.72, 3.57, 5.08, 6.67, 3.72, 1.62, 6.8, 3.48, 7.33]\n",
        "\n",
        "# Define the number of bins and initialize them with zeros\n",
        "n_bins = 100\n",
        "min_value = min(lead_ppm_measurements)\n",
        "max_value = max(lead_ppm_measurements)\n",
        "bin_width = (max_value - min_value) / n_bins\n",
        "histogram_bins = [0] * n_bins\n",
        "\n",
        "# Populate the bins with frequency data\n",
        "for measurement in lead_ppm_measurements:\n",
        "    #Subtract the minimum value from the measurement to shift the data\n",
        "    shifted_measurement = measurement - min_value\n",
        "\n",
        "    #Divide the shifted measurement by the bin width\n",
        "    division_result = shifted_measurement / bin_width\n",
        "\n",
        "    #Use floor function to find the largest integer less than or equal to the division result\n",
        "    largest_integer = int(division_result)\n",
        "\n",
        "    #Assign the integer value to bin_index\n",
        "    bin_index = largest_integer\n",
        "\n",
        "\n",
        "    ### YOUR CODE HERE ### - update the histogram_bins list in the correct index\n",
        "\n",
        "import matplotlib.pyplot as plt\n",
        "\n",
        "\"\"\"\n",
        "Next, we want to make a bar plot of the histogram, but rather than simply\n",
        "number the bins, we want them to represent proper ranges. To do this, we can create\n",
        "a for-loop that goes through the number of bins + 1 in order to incrementally\n",
        "determine the bin \"edge\" values. We can figure these out by adding the bin width\n",
        "each time we are iterating through the loop.\n",
        "\"\"\"\n",
        "# Initialize an empty list to store bin edges\n",
        "bin_edges = []\n",
        "\n",
        "# Initialize a variable to keep track of the current edge value\n",
        "current_edge_value = min_value\n",
        "\n",
        "# Loop through the number of bins + 1 to populate the bin_edges list\n",
        "# use the append function to update bin_edges with a new bin edge\n",
        "for i in range(num_bins + 1):\n",
        "    ### YOUR CODE HERE ###\n",
        "\n",
        "# Time to visualize it now!\n",
        "plt.figure(figsize=(10, 6))\n",
        "plt.bar(bin_edges[:-1], histogram_bins, width=bin_width) # the funciton for a bar chart!\n",
        "plt.xlabel(\"Lead ppm\")\n",
        "plt.ylabel(\"Frequency\")\n",
        "plt.show()\n"
      ],
      "metadata": {
        "id": "O2HOYGpNds3D"
      },
      "execution_count": null,
      "outputs": []
    },
    {
      "cell_type": "code",
      "source": [
        "\"\"\"\n",
        "Now after all that hard work, let's do the same thing but utilizing\n",
        "an external library/package with a prebuilt histogram function to accomplish\n",
        "the task in fewer lines of code.\n",
        "\"\"\"\n",
        "import numpy as np\n",
        "import matplotlib.pyplot as plt\n",
        "\n",
        "# Number of bins\n",
        "num_bins = 100\n",
        "\n",
        "# Create the histogram using numpy's `histogram` function\n",
        "hist, bin_edges = np.histogram(lead_ppm_measurements, bins=num_bins)\n",
        "\n",
        "# Plotting the histogram using matplotlib's `bar` function\n",
        "plt.figure(figsize=(10, 6))\n",
        "plt.bar(bin_edges[:-1], hist, width=np.diff(bin_edges))\n",
        "plt.title(\"Histogram of Lead ppm Measurements\")\n",
        "plt.xlabel(\"Lead ppm\")\n",
        "plt.ylabel(\"Frequency\")\n",
        "plt.show()\n"
      ],
      "metadata": {
        "id": "tInQ7xm_F_H2"
      },
      "execution_count": null,
      "outputs": []
    }
  ]
}