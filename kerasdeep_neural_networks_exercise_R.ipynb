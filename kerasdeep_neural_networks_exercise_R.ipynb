{
  "nbformat": 4,
  "nbformat_minor": 0,
  "metadata": {
    "colab": {
      "provenance": [],
      "authorship_tag": "ABX9TyPU7Wx7uq8/dZi9obr/O4Al",
      "include_colab_link": true
    },
    "kernelspec": {
      "name": "python3",
      "display_name": "Python 3"
    },
    "language_info": {
      "name": "python"
    }
  },
  "cells": [
    {
      "cell_type": "markdown",
      "metadata": {
        "id": "view-in-github",
        "colab_type": "text"
      },
      "source": [
        "<a href=\"https://colab.research.google.com/github/Intertangler/ML4biotech/blob/main/kerasdeep_neural_networks_exercise_R.ipynb\" target=\"_parent\"><img src=\"https://colab.research.google.com/assets/colab-badge.svg\" alt=\"Open In Colab\"/></a>"
      ]
    },
    {
      "cell_type": "markdown",
      "source": [
        "## import the data\n",
        "This artificial data represents the gene expression levels (normalized already) of two separate genes. The class labels associated with each data point indicate the presence or absence 1 or 0 of a particular downstream phenotype influenced by the genes. Our goal here is to detect a nonlinear relationship between the two gene expression levels that strongly correlates with the downstream phenotype."
      ],
      "metadata": {
        "id": "nRZguxgF_JLU"
      }
    },
    {
      "cell_type": "code",
      "source": [
        "%load_ext rpy2.ipython"
      ],
      "metadata": {
        "id": "ZA7eK5OeEtDL"
      },
      "execution_count": 1,
      "outputs": []
    },
    {
      "cell_type": "code",
      "source": [
        "%%R\n",
        "install.packages(\"keras\")\n"
      ],
      "metadata": {
        "id": "TVbK46JglsCu"
      },
      "execution_count": null,
      "outputs": []
    },
    {
      "cell_type": "code",
      "source": [
        "%%R\n",
        "install.packages(\"caTools\")\n",
        "install.packages(\"pROC\")"
      ],
      "metadata": {
        "id": "VaaLageDII7Q"
      },
      "execution_count": null,
      "outputs": []
    },
    {
      "cell_type": "code",
      "source": [
        "%%R\n",
        "library(readr)\n",
        "library(dplyr)\n",
        "# Load required packages\n",
        "library(caTools)\n",
        "library(pROC)\n",
        "# Plotting\n",
        "# This part would go into a separate block if you are running in R Studio or similar\n",
        "library(ggplot2)"
      ],
      "metadata": {
        "id": "nOZypIc6FnbS"
      },
      "execution_count": null,
      "outputs": []
    },
    {
      "cell_type": "code",
      "execution_count": null,
      "metadata": {
        "id": "eYcEXOb-tLIW"
      },
      "outputs": [],
      "source": [
        "%%R\n",
        "\n",
        "url <- \"https://raw.githubusercontent.com/Intertangler/ML4biotech/main/gene_expression_XOR.csv\"\n",
        "df <- read_csv(url)\n",
        "\n",
        "X <- df %>% select(-last_col())\n",
        "y <- df %>% select(last_col())\n",
        "\n",
        "# Convert data frames to matrices or vectors as needed\n",
        "X <- as.matrix(X)\n",
        "y <- as.vector(y[[1]])\n",
        "\n",
        "# shuffle data and labels\n",
        "shuffle_idx <- sample(seq_len(nrow(X)), replace = FALSE)\n",
        "X <- X[shuffle_idx, , drop = FALSE]\n",
        "y <- y[shuffle_idx]\n",
        "\n",
        "set.seed(428) # Seed random number gen\n",
        "\n",
        "# Split data to training/testing subsets\n",
        "split <- sample.split(y, SplitRatio = 0.8)\n",
        "X_train <- X[split, ]\n",
        "y_train <- y[split]\n",
        "X_test <- X[!split, ]\n",
        "y_test <- y[!split]"
      ]
    },
    {
      "cell_type": "code",
      "source": [
        "%%R\n",
        "# Prepare the data frame for ggplot\n",
        "data_plot <- data.frame(X1 = X_train[, 1], X2 = X_train[, 2], Class = as.factor(y_train))\n",
        "\n",
        "# Plot data points using ggplot\n",
        "ggplot(data = data_plot, aes(x = X1, y = X2, color = Class)) +\n",
        "  geom_point() +\n",
        "  xlab(\"Gene Expression 1\") +\n",
        "  ylab(\"Gene Expression 2\") +\n",
        "  scale_color_manual(name = \"Pehnotype\", values = c(\"0\" = \"red\", \"1\" = \"blue\")) +\n",
        "  theme_minimal() +\n",
        "  theme(legend.position = \"bottom\")\n"
      ],
      "metadata": {
        "id": "7wezrcbA-IBo"
      },
      "execution_count": null,
      "outputs": []
    },
    {
      "cell_type": "markdown",
      "source": [
        "## exercise\n",
        "Complete the missing lines."
      ],
      "metadata": {
        "id": "njqTB0NY_rVF"
      }
    },
    {
      "cell_type": "code",
      "source": [
        "%%R\n",
        "library(keras)\n",
        "library(caTools)\n",
        "library(tensorflow)\n",
        "\n",
        "\n",
        "#🌟🌟🌟🌟 YOUR CODE HERE 🌟🌟🌟🌟#  # Initialize the model\n",
        "#🌟🌟🌟🌟 YOUR CODE HERE 🌟🌟🌟🌟# # Add one or more hidden layers with a certain number of nodes\n",
        "#🌟🌟🌟🌟 YOUR CODE HERE 🌟🌟🌟🌟# # Add the output layer with a sigmoid activation\n",
        "#🌟🌟🌟🌟 YOUR CODE HERE 🌟🌟🌟🌟# # Compile the model with binary cross-entropy loss and adaptive moment estimation\n",
        "\n",
        "\n",
        "\n",
        "n_samples <- dim(X_train)[1]\n",
        "\n",
        "# Train\n",
        "history <- model %>% fit(\n",
        "  X_train, y_train,\n",
        "  epochs = 300,\n",
        "  batch_size = n_samples,\n",
        "  validation_data = list(X_test, y_test)\n",
        ")\n",
        "\n",
        "\n"
      ],
      "metadata": {
        "id": "S2CWTmr-H_Kj"
      },
      "execution_count": null,
      "outputs": []
    },
    {
      "cell_type": "code",
      "source": [
        "%%R\n",
        "# Train a logistic regression model using glm\n",
        "logreg_model <- glm(y_train ~ ., data = data.frame(y_train, X_train), family = binomial)\n",
        "\n",
        "# Make probability predictions\n",
        "logreg_prob <- predict(logreg_model, newdata = data.frame(X_test), type = \"response\")\n",
        "\n",
        "# Generate ROC data for logistic regression\n",
        "roc_data <- roc(y_test, logreg_prob)\n",
        "logreg_fpr <- roc_data$sensitivities\n",
        "logreg_tpr <- roc_data$specificities\n",
        "logreg_auc <- auc(roc_data)\n",
        "\n",
        "\n",
        "\n",
        "# Evaluate the model\n",
        "model %>% evaluate(X_test, y_test)\n",
        "\n",
        "# Make predictions\n",
        "predictions <- model %>% predict(X_test)\n",
        "\n",
        "# Use 'predictions' instead of 'mlp_prob_custom' for the ROC curve\n",
        "roc_data_custom <- roc(y_test, predictions)\n",
        "custom_mlp_fpr <- roc_data_custom$sensitivities\n",
        "custom_mlp_tpr <- roc_data_custom$specificities\n",
        "custom_mlp_auc <- auc(roc_data_custom)\n",
        "\n",
        "# Create a data frame for ggplot\n",
        "roc_df <- data.frame(\n",
        "  FPR = c(logreg_fpr, custom_mlp_fpr),\n",
        "  TPR = c(logreg_tpr, custom_mlp_tpr),\n",
        "  Model = factor(rep(c(\"Logistic Regression\", \"Custom MLP\"), each = length(logreg_fpr)))\n",
        ")\n",
        "\n",
        "# Create the ROC plot using ggplot\n",
        "ggplot(roc_df, aes(x = FPR, y = TPR, color = Model)) +\n",
        "  geom_line() +\n",
        "  geom_abline(intercept = 0, slope = 1, linetype = \"dashed\") +\n",
        "  xlab(\"False Positive Rate\") +\n",
        "  ylab(\"True Positive Rate\") +\n",
        "  ggtitle(sprintf(\"ROC Curve\\nLogistic AUC = %0.2f, MLP AUC = %0.2f\", logreg_auc, custom_mlp_auc))"
      ],
      "metadata": {
        "id": "vLBt9L1qYd5b"
      },
      "execution_count": null,
      "outputs": []
    }
  ]
}