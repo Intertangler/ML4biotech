{
  "nbformat": 4,
  "nbformat_minor": 0,
  "metadata": {
    "colab": {
      "provenance": [],
      "authorship_tag": "ABX9TyOziDt6TIv5GcrWaDsHU9Ld",
      "include_colab_link": true
    },
    "kernelspec": {
      "name": "ir",
      "display_name": "R"
    },
    "language_info": {
      "name": "R"
    }
  },
  "cells": [
    {
      "cell_type": "markdown",
      "metadata": {
        "id": "view-in-github",
        "colab_type": "text"
      },
      "source": [
        "<a href=\"https://colab.research.google.com/github/Intertangler/ML4biotech/blob/main/cb206v_exercise05logistic_regression_R.ipynb\" target=\"_parent\"><img src=\"https://colab.research.google.com/assets/colab-badge.svg\" alt=\"Open In Colab\"/></a>"
      ]
    },
    {
      "cell_type": "markdown",
      "source": [
        "## exercise - logistic regression\n",
        "In this exercise we will look again at simulated data linking blood sugar levels, the pathological occurence of diabetes, and gene expression data for high risk individuals. In contrast to the previous exercise, we will be attempting to construct a classifier using logistic regression that uses the\n",
        "gene expression profiles of individuals to predict whether or not they receive\n",
        "the pathological label."
      ],
      "metadata": {
        "id": "pkRFsezXfH97"
      }
    },
    {
      "cell_type": "code",
      "source": [
        "#First, let's import some multidimensional data and have a look at it. We will be\n",
        "#using dataframes - basically like excel spreadsheets, with columns and rows.\n",
        "#Try printing out the dataframe to examine its contents and its header labels.\n",
        "\n",
        "library(readr)\n",
        "\n",
        "# Read the data from the GitHub URL\n",
        "url = \"https://raw.githubusercontent.com/Intertangler/ML4biotech/main/gene_expression_data.csv\"\n",
        "\n",
        "df <- read_csv(url)\n",
        "\n",
        "# Extract data to the appropriate variables\n",
        "all_samples <- as.matrix(df[,-(ncol(df)-1):-(ncol(df))])\n",
        "pathological_labels <- df$Pathological\n",
        "blood_sugar_levels <- df$Blood_Sugar\n",
        "expression <- all_samples\n"
      ],
      "metadata": {
        "id": "XNkiLDwx06wV"
      },
      "execution_count": null,
      "outputs": []
    },
    {
      "cell_type": "code",
      "source": [
        "#take a look at the dataframe\n",
        "print(colnames(df))\n",
        "print(df)"
      ],
      "metadata": {
        "id": "4g1_xlY8H6lL"
      },
      "execution_count": null,
      "outputs": []
    },
    {
      "cell_type": "code",
      "source": [
        "# Next, let's run a visualization of our data. First a matrix displaying genes vs\n",
        "# individuals in our dataset, with the brightness of each pixel indicating the\n",
        "# expression level. Then we will make a histogram showing the distribution of\n",
        "# blood sugar levels in our dataset. In addition, we will color each bar according\n",
        "# to the frequency of patients who develop diabetes later in life - the longitudinal\n",
        "# part of this data.\n",
        "\n",
        "library(ggplot2)\n",
        "library(dplyr)\n",
        "library(RColorBrewer)\n",
        "\n",
        "\n",
        "\n",
        "heatmap(as.matrix(log(df %>% select(-Pathological, -Blood_Sugar))), Rowv = NA, Colv = NA, scale=\"none\", col = brewer.pal(9, \"Greys\"), labRow = NA, labCol = NA)\n",
        "\n",
        "\n",
        "num_bins <- 50\n",
        "hist_data <- hist(blood_sugar_levels, breaks = num_bins, plot = FALSE)\n",
        "\n",
        "\n",
        "\n",
        "bin_labels <- cut(blood_sugar_levels, breaks = hist_data$breaks, include.lowest = TRUE, labels = FALSE)\n",
        "proportions <- sapply(1:length(hist_data$counts), function(i) mean(pathological_labels[bin_labels == i]))\n",
        "\n",
        "\n",
        "colormap <- colorRampPalette(brewer.pal(9, \"RdBu\"))\n",
        "bin_colors <- colormap(length(proportions))\n",
        "\n",
        "\n",
        "ggplot() +\n",
        "  geom_bar(aes(x = hist_data$mids, y = hist_data$counts, fill = proportions), stat = \"identity\", width = diff(hist_data$breaks)[1]) +\n",
        "  scale_fill_gradientn(colors = rev(bin_colors), name = \"Diabetes proportion\") +\n",
        "  labs(x = 'Blood Sugar Levels (mg/dl)', y = 'Frequency') +\n",
        "  theme_minimal()\n"
      ],
      "metadata": {
        "id": "H8P3oBuDK6r6"
      },
      "execution_count": null,
      "outputs": []
    },
    {
      "cell_type": "markdown",
      "source": [
        "## exercise - correlation analysis on the linear regression results\n",
        "Last time we performed linear regression on the data to build a model that can\n",
        "predict the blood sugar levels on the basis of the gene expression profiles of\n",
        "each individual. When we plot the results, we see a visual trend. How does the model perform when we train it on genes with greater or lesser correlation with blood sugar?"
      ],
      "metadata": {
        "id": "kZMpLe1idkOq"
      }
    },
    {
      "cell_type": "code",
      "source": [
        "install.packages(\"optimx\")\n",
        "install.packages(\"caret\")"
      ],
      "metadata": {
        "id": "JusSgexeDDFg"
      },
      "execution_count": null,
      "outputs": []
    },
    {
      "cell_type": "code",
      "source": [
        "\n",
        "library(ggplot2)\n",
        "library(caret)\n",
        "\n",
        "# Calculate Pearson Correlation\n",
        "calculate_pearson_correlation <- function(x, y) {\n",
        "  #🌟🌟🌟🌟 YOUR CODE HERE 🌟🌟🌟🌟# mean of first variable\n",
        "  #🌟🌟🌟🌟 YOUR CODE HERE 🌟🌟🌟🌟# mean of second variable\n",
        "\n",
        "  # #🌟🌟🌟🌟 YOUR CODE HERE 🌟🌟🌟🌟# Calculate the numerator and the denominator terms for Pearson correlation\n",
        "  #🌟🌟🌟🌟 YOUR CODE HERE 🌟🌟🌟🌟#\n",
        "  #🌟🌟🌟🌟 YOUR CODE HERE 🌟🌟🌟🌟#\n",
        "\n",
        "  # #🌟🌟🌟🌟 YOUR CODE HERE 🌟🌟🌟🌟# Calculate Pearson correlation\n",
        "\n",
        "  return(corr)\n",
        "}\n",
        "\n",
        "\n",
        "high_corr_genes <- c()\n",
        "low_corr_genes <- c()\n",
        "\n",
        "if (is.null(ncol(expression))) {\n",
        "  stop(\"The 'expression' data frame appears to be empty or not loaded properly.\")\n",
        "}\n",
        "\n",
        "genes <- ncol(expression)\n",
        "\n",
        "\n",
        "for (i in 1:genes) {# Loop over all the genes\n",
        "  gene_expression <- expression[, i]\n",
        "  corr <- calculate_pearson_correlation(blood_sugar_levels, gene_expression)\n",
        "  if (abs(corr) > 0.1) {\n",
        "    high_corr_genes <- c(high_corr_genes, i)\n",
        "  } else if (abs(corr) < 0.05) {\n",
        "    low_corr_genes <- c(low_corr_genes, i)\n",
        "  }\n",
        "}\n",
        "\n",
        "\n",
        "print(paste(\"Genes with high correlation with blood sugar level:\", toString(high_corr_genes)))\n",
        "print(paste(\"Genes with low correlation with blood sugar level:\", toString(low_corr_genes)))\n",
        "\n",
        "# fitting to get weights by using the normal equations method\n",
        "fit_normal_equations <- function(X, y) {\n",
        "  X_b <- cbind(1, X)\n",
        "  theta <- solve(t(X_b) %*% X_b) %*% t(X_b) %*% y\n",
        "  return(theta)\n",
        "}\n",
        "\n",
        "# prediction function to test the model parameters\n",
        "predict_normal <- function(X, theta) {\n",
        "  num_samples <- nrow(X)\n",
        "  ones_column <- matrix(1, nrow = num_samples, ncol = 1)\n",
        "  X_b <- cbind(ones_column, X)\n",
        "  predictions <- X_b %*% theta\n",
        "  return(predictions)\n",
        "}\n",
        "\n",
        "# partitioning the data to train and testing sbusets\n",
        "set.seed(428)\n",
        "trainIndex <- createDataPartition(blood_sugar_levels, p = .7, list = FALSE)\n",
        "X_train <- expression[trainIndex,]\n",
        "y_train <- blood_sugar_levels[trainIndex]\n",
        "X_test <- expression[-trainIndex,]\n",
        "y_test <- blood_sugar_levels[-trainIndex]\n",
        "\n",
        "# fit the various data subsets\n",
        "theta_all <- fit_normal_equations(X_train, y_train)\n",
        "y_pred_all <- predict_normal(X_test, theta_all)\n",
        "\n",
        "theta_high <- fit_normal_equations(X_train[, high_corr_genes], y_train)\n",
        "y_pred_high <- predict_normal(X_test[, high_corr_genes], theta_high)\n",
        "\n",
        "theta_low <- fit_normal_equations(X_train[, low_corr_genes], y_train)\n",
        "y_pred_low <- predict_normal(X_test[, low_corr_genes], theta_low)\n",
        "\n",
        "# Plotting part\n",
        "\n",
        "\n",
        "plot_data <- data.frame(GroundTruth = c(y_test, y_test, y_test),\n",
        "                        Predicted = c(y_pred_all, y_pred_high, y_pred_low),\n",
        "                        Category = factor(rep(c('All', 'High', 'Low'), each = length(y_test))))\n",
        "options(repr.plot.width=50, repr.plot.height=10)\n",
        "ggplot(plot_data, aes(x = GroundTruth, y = Predicted, color = Category)) +\n",
        "  geom_point() +\n",
        "  facet_wrap(~ Category) +\n",
        "  labs(title = \"Gene Expression Prediction\",\n",
        "       x = \"Ground Truth\",\n",
        "       y = \"Predicted\") +\n",
        "  theme_minimal()"
      ],
      "metadata": {
        "id": "Pm68eLVyl5x8"
      },
      "execution_count": null,
      "outputs": []
    },
    {
      "cell_type": "markdown",
      "source": [
        "## exercise - logistic regression\n"
      ],
      "metadata": {
        "id": "2a2mfVTikkIZ"
      }
    },
    {
      "cell_type": "code",
      "source": [
        "install.packages(\"caTools\")\n",
        "library(caTools)\n"
      ],
      "metadata": {
        "id": "DxG-4TBHLF6G"
      },
      "execution_count": null,
      "outputs": []
    },
    {
      "cell_type": "code",
      "source": [
        "\n",
        "library(ggplot2)\n",
        "library(pROC)\n",
        "# Sigmoid function\n",
        "sigmoid <- function(a) {\n",
        "  1 / (1 + exp(-a))\n",
        "}\n",
        "compute_gradient <- function(X, y, theta) {\n",
        "  m <- length(y)\n",
        "  h <- sigmoid(X %*% theta)\n",
        "  gradient <- (1 / m) * colSums(matrix((h - y), nrow(X), ncol(X)) * X)# Compute gradient\n",
        "  return(gradient)\n",
        "}\n",
        "\n",
        "compute_nll <- function(y, h) {\n",
        "  -mean(y * log(pmax(h, 1e-10)) + (1 - y) * log(pmax(1 - h, 1e-10)))\n",
        "}\n",
        "\n",
        "fit_logistic_regression_with_nll <- function(X, y, lr = 0.0001, epochs = 100000) {\n",
        "  n <- nrow(X)\n",
        "  p <- ncol(X)\n",
        "  X <- cbind(rep(1, n), X)  # Add a column of ones for the bias\n",
        "  set.seed(428)\n",
        "\n",
        "  theta <- runif(p + 1, 0, 0.001) # initialize the parametsre\n",
        "\n",
        "  for (epoch in 1:epochs) {\n",
        "\n",
        " #🌟🌟🌟🌟 YOUR CODE HERE 🌟🌟🌟🌟#\n",
        " #🌟🌟🌟🌟 YOUR CODE HERE 🌟🌟🌟🌟#\n",
        "\n",
        "    nll <- compute_nll(y, sigmoid(X %*% theta))\n",
        "\n",
        "    if (epoch %% 500 == 0) { #print out a little report every now and then\n",
        "      print(paste(\"Epoch\", epoch, \", Avg Gradient Magnitude:\", mean(abs(gradient)), \"nll\", nll))\n",
        "    }\n",
        "  }\n",
        "  return(theta)\n",
        "}\n",
        "\n",
        "\n",
        "# Predict function\n",
        "predict_logistic_regression <- function(X, theta) {\n",
        "  X <- cbind(rep(1, nrow(X)), X)\n",
        "  prob <- sigmoid(X %*% theta)\n",
        "  prediction <- as.integer(prob > 0.5)\n",
        "  return(list(prob = prob, prediction = prediction))\n",
        "}\n",
        "\n",
        "\n",
        "X <- expression  # input\n",
        "y <- pathological_labels # outcome vaariable\n",
        "print(paste('Dimensions of X:', dim(X)))\n",
        "print(paste('Length of y:', length(y)))\n",
        "\n",
        "# Split\n",
        "set.seed(123)\n",
        "trainIndex <- createDataPartition(y, p = 0.8, list = FALSE, times = 1) #   use the createDataPartition() function\n",
        "print(paste('Length of trainIndex:', length(trainIndex)))\n",
        "X_train <- X[trainIndex,]\n",
        "X_test <- X[-trainIndex,]\n",
        "y_train <- y[trainIndex]\n",
        "y_test <- y[-trainIndex]\n",
        "\n",
        "# Fit\n",
        "theta <- fit_logistic_regression_with_nll(X_train, y_train, lr = 0.001, epochs = 5000)\n",
        "\n",
        "\n",
        "# Calculate predicted\n",
        " #🌟🌟🌟🌟 YOUR CODE HERE 🌟🌟🌟🌟#\n",
        "y_pred <- predict_logistic_regression(X_test, theta)$prediction\n",
        "\n",
        "# ROC curve\n",
        "roc_data <- roc(y_test, y_pred_proba)\n",
        "roc_auc <- auc(roc_data)\n",
        "accuracy <- sum(y_pred == y_test) / length(y_test)\n",
        "conf_mat <- table(y_test, y_pred)\n",
        "f1 <- (2 * sum(y_test & y_pred)) / (sum(y_test) + sum(y_pred))\n",
        "\n",
        "# Calculate the logit\n",
        "logit_values <- as.numeric(X_test %*% theta[2:length(theta)]) + theta[1]\n",
        "scatter_plot <- ggplot() +\n",
        "  geom_point(aes(x=logit_values, y=y_pred_proba, color=factor(y_test)), alpha=0.7, size=1) +\n",
        "  labs(x=\"Logit\", y=\"Probability\", title=\"all genes\") +\n",
        "  scale_color_manual(values = c(\"blue\", \"red\"))\n",
        "print(scatter_plot)\n",
        "\n",
        "# Plot ROC\n",
        "coords <- coords(roc_data, \"all\")\n",
        "roc_plot <- ggplot() +\n",
        "  geom_line(data=as.data.frame(coords), aes(x=1-specificity, y=sensitivity), color=\"blue\") +\n",
        "  geom_line(aes(x=c(0, 1), y=c(0, 1)), linetype=\"dashed\") +\n",
        "  labs(x='False Positive ', y='True Positive ', title=paste('area under curve = ', round(roc_auc, 2), ')'))\n",
        "print(roc_plot)\n",
        "\n",
        "# Print metrics\n",
        "cat(paste(\"Accuracy: \", accuracy, \"\\n\"))\n",
        "cat(\"Confusion Matrix:\\n\")\n",
        "print(conf_mat)\n",
        "cat(paste(\"F1 Score: \", f1, \"\\n\"))\n"
      ],
      "metadata": {
        "id": "JSWYCZ7CIKm_"
      },
      "execution_count": null,
      "outputs": []
    },
    {
      "cell_type": "code",
      "source": [],
      "metadata": {
        "id": "NFX093XKkgxZ"
      },
      "execution_count": null,
      "outputs": []
    }
  ]
}